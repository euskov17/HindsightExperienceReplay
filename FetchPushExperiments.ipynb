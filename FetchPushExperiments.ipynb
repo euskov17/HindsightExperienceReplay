{
 "cells": [
  {
   "cell_type": "code",
   "execution_count": 1,
   "metadata": {},
   "outputs": [],
   "source": [
    "import gymnasium as gym\n",
    "import numpy as np\n",
    "import matplotlib.pyplot as plt\n",
    "\n",
    "from tqdm import tqdm\n",
    "from models.soft_actor_critic import SoftActorCritic\n",
    "from models.ddpg import DDPG\n",
    "# from rl_models_.her import HindsightExperienceReplay\n",
    "from her2 import Player\n",
    "# from rl_models.her import HindsightExperienceReplay\n",
    "# from rl_models.her_old import HindsightExperienceReplay\n",
    "from rl_models.replay_buffer import ReplayBuffer\n",
    "from rl_models.utils import plot_learning_curve"
   ]
  },
  {
   "cell_type": "code",
   "execution_count": 2,
   "metadata": {},
   "outputs": [
    {
     "data": {
      "text/plain": [
       "(Box(-1.0, 1.0, (4,), float32),\n",
       " Dict('achieved_goal': Box(-inf, inf, (3,), float64), 'desired_goal': Box(-inf, inf, (3,), float64), 'observation': Box(-inf, inf, (25,), float64)))"
      ]
     },
     "execution_count": 2,
     "metadata": {},
     "output_type": "execute_result"
    }
   ],
   "source": [
    "env_name = 'FetchPush-v2'\n",
    "max_episode_steps = 50\n",
    "env = gym.make(env_name, max_episode_steps=max_episode_steps)\n",
    "\n",
    "env.action_space, env.observation_space"
   ]
  },
  {
   "cell_type": "code",
   "execution_count": 3,
   "metadata": {},
   "outputs": [
    {
     "data": {
      "text/plain": [
       "(25, 4)"
      ]
     },
     "execution_count": 3,
     "metadata": {},
     "output_type": "execute_result"
    }
   ],
   "source": [
    "state_dim = env.observation_space['observation'].shape[0]\n",
    "goal_dim = env.observation_space['desired_goal'].shape[0]\n",
    "actions_dim = env.action_space.shape[0]\n",
    "state_dim, actions_dim"
   ]
  },
  {
   "cell_type": "code",
   "execution_count": 4,
   "metadata": {},
   "outputs": [],
   "source": [
    "epochs = 100\n",
    "epoch_iters = 50\n",
    "success_history = []\n",
    "batch_size = 256\n",
    "gamma = .98"
   ]
  },
  {
   "cell_type": "code",
   "execution_count": 5,
   "metadata": {},
   "outputs": [],
   "source": [
    "desired_goal = env.reset()[0]['desired_goal']"
   ]
  },
  {
   "cell_type": "code",
   "execution_count": 6,
   "metadata": {},
   "outputs": [],
   "source": [
    "# env2 = gym.make(env_name, max_episode_steps=max_episode_steps)\n",
    "agent = DDPG(state_dim + goal_dim, actions_dim, \n",
    "             hidden_size=256, lr=1e-3,\n",
    "              tau=0.5, gamma=gamma)\n",
    "replay_buffer = ReplayBuffer(int(1e6))\n",
    "player = Player(env, agent, replay_buffer)"
   ]
  },
  {
   "cell_type": "code",
   "execution_count": 7,
   "metadata": {},
   "outputs": [],
   "source": [
    "# agent2 = SoftActorCritic(state_dim + goal_dim, actions_dim, \n",
    "#                          hidden_size=128, lr=1e-3,\n",
    "#               tau=0.05, gamma=gamma)\n",
    "# replay_buffer2 = ReplayBuffer(int(1e6))\n",
    "# player2 = Player(env2, agent2, replay_buffer2)"
   ]
  },
  {
   "cell_type": "code",
   "execution_count": 8,
   "metadata": {},
   "outputs": [],
   "source": [
    "# env2 = gym.make(env_name, max_episode_steps=max_episode_steps)\n",
    "# agent2 = SoftActorCritic(state_dim + goal_dim, actions_dim, hidden_size=256, \n",
    "#                          lr=1e-3, tau=0.05, gamma=gamma)\n",
    "# replay_buffer2 = ReplayBuffer(1000000)\n",
    "# her2 = HindsightExperienceReplay(env2, agent2, replay_buffer2, \n",
    "#                                 batch_size=batch_size, max_steps=max_episode_steps)"
   ]
  },
  {
   "cell_type": "code",
   "execution_count": 9,
   "metadata": {},
   "outputs": [],
   "source": [
    "# env3 = gym.make(env_name, max_episode_steps=max_episode_steps)\n",
    "# agent3 = SoftActorCritic(state_dim + goal_dim, actions_dim, hidden_size=64, \n",
    "#                          lr=1e-3, tau=0.95, gamma=gamma)\n",
    "# replay_buffer3 = ReplayBuffer(1000000)\n",
    "# her3 = HindsightExperienceReplay(env3, agent3, replay_buffer3, \n",
    "#                                 batch_size=batch_size, max_steps=max_episode_steps,\n",
    "#                                 one_goal_task=desired_goal)"
   ]
  },
  {
   "cell_type": "code",
   "execution_count": 10,
   "metadata": {},
   "outputs": [],
   "source": [
    "# her2.play_and_learn()"
   ]
  },
  {
   "cell_type": "code",
   "execution_count": 11,
   "metadata": {},
   "outputs": [],
   "source": [
    "success_history2 = []\n",
    "success_history3 = []"
   ]
  },
  {
   "cell_type": "code",
   "execution_count": 12,
   "metadata": {},
   "outputs": [
    {
     "name": "stdout",
     "output_type": "stream",
     "text": [
      "Epoch 15\n",
      "DDPG with HER       success rate = 0.625\n"
     ]
    },
    {
     "data": {
      "image/png": "[encoded data removed]",
      "text/plain": [
       "<Figure size 640x480 with 1 Axes>"
      ]
     },
     "metadata": {},
     "output_type": "display_data"
    },
    {
     "name": "stderr",
     "output_type": "stream",
     "text": [
      "100%|██████████| 50/50 [01:52<00:00,  2.25s/it]\n"
     ]
    }
   ],
   "source": [
    "epsilon = .3\n",
    "for epoch in range(epochs):\n",
    "    # score_history = []\n",
    "    score_history2 = []\n",
    "    score_history3 = []\n",
    "\n",
    "\n",
    "    for iter in tqdm(range(epoch_iters)):\n",
    "        # for _ in range(8):\n",
    "        score, success = player.play_and_record(epsilon=epsilon, num_episodes=16)\n",
    "        player.update_agent(batch_size=1024)\n",
    "        player.update_network_parameters()\n",
    "        # score_history.append(float(success))\n",
    "\n",
    "        # score, success = player2.play_and_record(epsilon=epsilon)\n",
    "        # player2.update_agent()\n",
    "        # score_history2.append(float(success))\n",
    "\n",
    "        # score, success = her2.play_and_learn(num_episodes=16)\n",
    "        # score_history2.append(float(success))\n",
    "\n",
    "        # score, success = her3.play_and_learn(num_episodes=16, her=False)\n",
    "        # score_history3.append(float(success))\n",
    "    # if epsilon > 0:\n",
    "    #     epsilon -= 0.005\n",
    "\n",
    "    # score, success_rate = player.play_and_record(epsilon=epsilon, train=False)\n",
    "    success_rate = player.test_rollout(n_test_rollouts=80)\n",
    "    # success_rate = np.mean(score_history)\n",
    "    success_history.append(success_rate)\n",
    "    plot_learning_curve(success_history, name=\"DDPG + HER\") \n",
    "\n",
    "    # success_rate2 = np.mean(score_history2)\n",
    "    # success_history2.append(success_rate2)\n",
    "    # plot_learning_curve(len(success_history2), success_history2, name=\"Soft-Actor Critic + HER\") \n",
    "\n",
    "    # success_rate3 = np.mean(score_history3)\n",
    "    # success_history3.append(success_rate3)\n",
    "    # plot_learning_curve(len(success_history3), success_history3, name=\"Soft-Actor Critic without HER\", running=True) \n",
    "\n",
    "    print(f\"Epoch {len(success_history)}\")\n",
    "    print(f\"DDPG with HER       success rate = {success_rate}\")\n",
    "    # print(f\"Soft-Actor Critic with HER      success rate = {success_rate2}\")\n",
    "    # print(f\"Soft-Actor Critic without HER       success rate = {success_rate3}\")\n",
    "    plt.show()"
   ]
  }
 ],
 "metadata": {
  "kernelspec": {
   "display_name": "base",
   "language": "python",
   "name": "python3"
  },
  "language_info": {
   "codemirror_mode": {
    "name": "ipython",
    "version": 3
   },
   "file_extension": ".py",
   "mimetype": "text/x-python",
   "name": "python",
   "nbconvert_exporter": "python",
   "pygments_lexer": "ipython3",
   "version": "3.11.5"
  }
 },
 "nbformat": 4,
 "nbformat_minor": 2
}
