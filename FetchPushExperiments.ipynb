{
 "cells": [
  {
   "cell_type": "code",
   "execution_count": 15,
   "metadata": {},
   "outputs": [
    {
     "name": "stderr",
     "output_type": "stream",
     "text": [
      "/home/evgeny/anaconda3/lib/python3.11/site-packages/gymnasium/envs/registration.py:877: UserWarning: \u001b[33mWARN: `gymnasium.make(..., autoreset=True)` is deprecated and will be removed in v1.0\u001b[0m\n",
      "  logger.warn(\n"
     ]
    }
   ],
   "source": [
    "import gymnasium as gym\n",
    "import numpy as np\n",
    "\n",
    "\n",
    "max_episode_steps = 64\n",
    "env = gym.make('FetchPush-v2', max_episode_steps=max_episode_steps, autoreset=True)"
   ]
  },
  {
   "cell_type": "code",
   "execution_count": 16,
   "metadata": {},
   "outputs": [
    {
     "data": {
      "text/plain": [
       "(Box(-1.0, 1.0, (4,), float32),\n",
       " Dict('achieved_goal': Box(-inf, inf, (3,), float64), 'desired_goal': Box(-inf, inf, (3,), float64), 'observation': Box(-inf, inf, (25,), float64)))"
      ]
     },
     "execution_count": 16,
     "metadata": {},
     "output_type": "execute_result"
    }
   ],
   "source": [
    "env.action_space, env.observation_space"
   ]
  },
  {
   "cell_type": "code",
   "execution_count": 17,
   "metadata": {},
   "outputs": [],
   "source": [
    "class RandomAgent:\n",
    "    def get_action(self, state):\n",
    "        return env.action_space.sample()"
   ]
  },
  {
   "cell_type": "code",
   "execution_count": 18,
   "metadata": {},
   "outputs": [
    {
     "data": {
      "text/plain": [
       "({'observation': array([ 1.34815922e+00,  7.48950902e-01,  4.13618685e-01,  1.21323380e+00,\n",
       "          6.78991616e-01,  4.24702091e-01, -1.34925423e-01, -6.99592861e-02,\n",
       "          1.10834063e-02, -1.50944836e-06,  1.25159772e-03, -8.82449685e-08,\n",
       "          1.35761490e-07,  4.67863609e-15,  9.30919601e-04, -4.11979931e-05,\n",
       "          3.89350461e-05,  5.03907166e-08, -7.75241793e-08,  2.87432303e-20,\n",
       "         -9.30921536e-04,  4.11967353e-05,  7.89271962e-06,  3.79757618e-07,\n",
       "          4.39314913e-05]),\n",
       "  'achieved_goal': array([1.2132338 , 0.67899162, 0.42470209]),\n",
       "  'desired_goal': array([1.35015074, 0.71885725, 0.42469975])},\n",
       " {})"
      ]
     },
     "execution_count": 18,
     "metadata": {},
     "output_type": "execute_result"
    }
   ],
   "source": [
    "env.reset()"
   ]
  },
  {
   "cell_type": "code",
   "execution_count": 19,
   "metadata": {},
   "outputs": [
    {
     "data": {
      "text/plain": [
       "({'observation': array([ 1.34006571e+00,  7.55193797e-01,  4.15705423e-01,  1.21323380e+00,\n",
       "          6.78991615e-01,  4.24737381e-01, -1.26831909e-01, -7.62021814e-02,\n",
       "          9.03195859e-03,  0.00000000e+00,  0.00000000e+00, -5.03884423e-08,\n",
       "          7.75206804e-08,  6.42184157e-16,  8.85878196e-03, -6.58148497e-03,\n",
       "         -1.31454499e-03,  2.85323085e-08, -4.38958592e-08,  3.06703947e-18,\n",
       "         -8.85878306e-03,  6.58148426e-03,  1.34121054e-03, -1.15803447e-05,\n",
       "          6.58737033e-03]),\n",
       "  'achieved_goal': array([1.2132338 , 0.67899162, 0.42473738]),\n",
       "  'desired_goal': array([1.35015074, 0.71885725, 0.42469975])},\n",
       " -1.0,\n",
       " False,\n",
       " False,\n",
       " {'is_success': 0.0})"
      ]
     },
     "execution_count": 19,
     "metadata": {},
     "output_type": "execute_result"
    }
   ],
   "source": [
    "env.step(env.action_space.sample())"
   ]
  },
  {
   "cell_type": "code",
   "execution_count": 20,
   "metadata": {},
   "outputs": [],
   "source": [
    "random_agent = RandomAgent()"
   ]
  },
  {
   "cell_type": "code",
   "execution_count": 21,
   "metadata": {},
   "outputs": [],
   "source": [
    "from tqdm import tqdm\n",
    "\n",
    "def play_game(agent):\n",
    "    state = env.reset()\n",
    "    done = False\n",
    "    score = 0.0\n",
    "    for i in range(max_episode_steps):\n",
    "        action = agent.get_action(state)\n",
    "        next_state, reward, done, _, _ = env.step(action)\n",
    "        \n",
    "        score += reward\n",
    "        state = next_state\n",
    "        if done:\n",
    "            break\n",
    "    return score"
   ]
  },
  {
   "cell_type": "code",
   "execution_count": 22,
   "metadata": {},
   "outputs": [
    {
     "name": "stderr",
     "output_type": "stream",
     "text": [
      "100%|██████████| 10/10 [00:01<00:00,  8.13it/s]\n"
     ]
    },
    {
     "data": {
      "image/png": "[encoded data removed]",
      "text/plain": [
       "<Figure size 640x480 with 1 Axes>"
      ]
     },
     "metadata": {},
     "output_type": "display_data"
    },
    {
     "data": {
      "text/plain": [
       "-57.6"
      ]
     },
     "execution_count": 22,
     "metadata": {},
     "output_type": "execute_result"
    }
   ],
   "source": [
    "import matplotlib.pyplot as plt\n",
    "import numpy as np\n",
    "tests = []\n",
    "for i in tqdm(range(10)):\n",
    "    result = play_game(random_agent)\n",
    "    tests.append(result)\n",
    "    \n",
    "plt.hist(tests) \n",
    "plt.show()\n",
    "np.mean(tests)"
   ]
  },
  {
   "cell_type": "code",
   "execution_count": 23,
   "metadata": {},
   "outputs": [
    {
     "data": {
      "text/plain": [
       "(25, 4)"
      ]
     },
     "execution_count": 23,
     "metadata": {},
     "output_type": "execute_result"
    }
   ],
   "source": [
    "state_dim = env.observation_space['observation'].shape[0]\n",
    "goal_dim = env.observation_space['desired_goal'].shape[0]\n",
    "actions_dim = env.action_space.shape[0]\n",
    "state_dim, actions_dim"
   ]
  },
  {
   "cell_type": "code",
   "execution_count": 24,
   "metadata": {},
   "outputs": [],
   "source": [
    "from soft_actor_critic import SoftActorCritic\n",
    "from replay_buffer import ReplayBuffer\n",
    "\n",
    "agent = SoftActorCritic(state_dim + goal_dim, actions_dim)\n",
    "replay_buffer = ReplayBuffer(10000)\n",
    "batch_size = 3"
   ]
  },
  {
   "cell_type": "code",
   "execution_count": 25,
   "metadata": {},
   "outputs": [],
   "source": [
    "from her import HindsightExperienceReplay\n",
    "\n",
    "her = HindsightExperienceReplay(env, agent, replay_buffer, \n",
    "                                batch_size=batch_size, max_steps=max_episode_steps)"
   ]
  },
  {
   "cell_type": "code",
   "execution_count": 26,
   "metadata": {},
   "outputs": [
    {
     "data": {
      "text/plain": [
       "-64.0"
      ]
     },
     "execution_count": 26,
     "metadata": {},
     "output_type": "execute_result"
    }
   ],
   "source": [
    "her.play_and_learn()"
   ]
  },
  {
   "cell_type": "code",
   "execution_count": 27,
   "metadata": {},
   "outputs": [],
   "source": [
    "epochs = 100\n",
    "epoch_iters = 400\n",
    "success_history = []"
   ]
  },
  {
   "cell_type": "code",
   "execution_count": 30,
   "metadata": {},
   "outputs": [
    {
     "data": {
      "image/png": "[encoded data removed]",
      "text/plain": [
       "<Figure size 640x480 with 1 Axes>"
      ]
     },
     "metadata": {},
     "output_type": "display_data"
    },
    {
     "name": "stdout",
     "output_type": "stream",
     "text": [
      "Epoch 50 success rate = 0.06\n"
     ]
    }
   ],
   "source": [
    "from tqdm import tqdm\n",
    "import numpy as np\n",
    "from utils import plot_learning_curve\n",
    "\n",
    "for epoch in range(epochs):\n",
    "    score_history = []\n",
    "    for iter in tqdm(range(epoch_iters)):\n",
    "        score = her.play_and_learn()\n",
    "        score_history.append(score != -64)\n",
    "    \n",
    "    success_rate = np.mean(score_history)\n",
    "    success_history.append(success_rate)\n",
    "    plot_learning_curve(len(success_history), success_history) \n",
    "    print(f\"Epoch {epoch + 1} success rate = {success_rate :.2f}\")"
   ]
  },
  {
   "cell_type": "code",
   "execution_count": null,
   "metadata": {},
   "outputs": [
    {
     "data": {
      "text/plain": [
       "[0.0525,\n",
       " 0.075,\n",
       " 0.1025,\n",
       " 0.0725,\n",
       " 0.0625,\n",
       " 0.0525,\n",
       " 0.06,\n",
       " 0.045,\n",
       " 0.0875,\n",
       " 0.07,\n",
       " 0.09,\n",
       " 0.0975,\n",
       " 0.085,\n",
       " 0.085,\n",
       " 0.065,\n",
       " 0.08,\n",
       " 0.085,\n",
       " 0.0675,\n",
       " 0.09,\n",
       " 0.09,\n",
       " 0.09,\n",
       " 0.0725,\n",
       " 0.0825,\n",
       " 0.125,\n",
       " 0.08,\n",
       " 0.08,\n",
       " 0.0725,\n",
       " 0.09,\n",
       " 0.0775,\n",
       " 0.0625,\n",
       " 0.07,\n",
       " 0.1,\n",
       " 0.0925,\n",
       " 0.0725,\n",
       " 0.0975,\n",
       " 0.1,\n",
       " 0.0975,\n",
       " 0.0875,\n",
       " 0.0675,\n",
       " 0.065,\n",
       " 0.0875,\n",
       " 0.0875,\n",
       " 0.095,\n",
       " 0.065,\n",
       " 0.06,\n",
       " 0.0775,\n",
       " 0.0525,\n",
       " 0.09,\n",
       " 0.07,\n",
       " 0.06]"
      ]
     },
     "execution_count": 15,
     "metadata": {},
     "output_type": "execute_result"
    }
   ],
   "source": [
    "success_history"
   ]
  },
  {
   "cell_type": "code",
   "execution_count": null,
   "metadata": {},
   "outputs": [],
   "source": [
    "# def play_and_record(env, agent, buffer):\n",
    "#     state = env.reset()[0]\n",
    "#     # print(state)\n",
    "#     done = False\n",
    "#     score = 0\n",
    "#     for i in range(max_episode_steps):\n",
    "#         obs = state['observation']#.astype(np.float32)\n",
    "#         # print(obs)\n",
    "#         action = agent.choose_action(obs)\n",
    "#         # print(action)\n",
    "#         next_state, reward, done, _, _ = env.step(action)\n",
    "#         score += reward\n",
    "#         # print(obs, action, reward, next_state['observation'], done)\n",
    "#         buffer.add(obs, action, reward, next_state['observation'], done)\n",
    "        \n",
    "#         if len(buffer) > batch_size:\n",
    "#             batch = replay_buffer.sample(batch_size)\n",
    "#             agent.learning_step(batch)\n",
    "            \n",
    "#         state = next_state\n",
    "#         if done:\n",
    "#             break\n",
    "    \n",
    "#     return score"
   ]
  },
  {
   "cell_type": "code",
   "execution_count": null,
   "metadata": {},
   "outputs": [],
   "source": [
    "# from tqdm import tqdm\n",
    "# import numpy as np\n",
    "# from utils import plot_learning_curve\n",
    "\n",
    "# n_epochs = 50\n",
    "# n_episodes_per_ehoch = 100\n",
    "# batch_size = 64\n",
    "# # score_history = []\n",
    "# best_score = env.reward_range[0]\n",
    "# plts = []\n",
    "# for epoch in tqdm(range(n_epochs)):\n",
    "#     score_history = []\n",
    "#     for i in range(n_episodes_per_ehoch):\n",
    "#         score = play_and_record(env, agent, replay_buffer)\n",
    "#         # if len(replay_buffer) >= batch_size:\n",
    "#         #     batch = replay_buffer.sample(batch_size)\n",
    "#         #     agent.learning_step(batch)\n",
    "#         score_history.append(score != -max_episode_steps)\n",
    "#         avg_score = np.mean(score_history[-100:])\n",
    "#         if avg_score > best_score:\n",
    "#             best_score = avg_score\n",
    "#         # if i % 10 == 0 and i > 0:\n",
    "#         #     print(f\"iteration {i} score {score:.3f} avg_score {avg_score:.3f}\")\n",
    "#     plts.append(np.mean(score_history))\n",
    "#     plot_learning_curve(epoch + 1, plts) "
   ]
  },
  {
   "cell_type": "code",
   "execution_count": null,
   "metadata": {},
   "outputs": [],
   "source": [
    "# agent = SoftActorCritic()"
   ]
  }
 ],
 "metadata": {
  "kernelspec": {
   "display_name": "base",
   "language": "python",
   "name": "python3"
  },
  "language_info": {
   "codemirror_mode": {
    "name": "ipython",
    "version": 3
   },
   "file_extension": ".py",
   "mimetype": "text/x-python",
   "name": "python",
   "nbconvert_exporter": "python",
   "pygments_lexer": "ipython3",
   "version": "3.11.5"
  }
 },
 "nbformat": 4,
 "nbformat_minor": 2
}
