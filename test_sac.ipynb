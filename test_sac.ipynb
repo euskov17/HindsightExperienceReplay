{
 "cells": [
  {
   "cell_type": "code",
   "execution_count": 12,
   "metadata": {},
   "outputs": [],
   "source": [
    "import torch\n",
    "import torch.nn as nn"
   ]
  },
  {
   "cell_type": "code",
   "execution_count": 13,
   "metadata": {},
   "outputs": [],
   "source": [
    "import pybullet_envs\n",
    "import gym\n",
    "import numpy as np\n",
    "from gym import wrappers\n",
    "from soft_actor_critic import SoftActorCritic"
   ]
  },
  {
   "cell_type": "code",
   "execution_count": 14,
   "metadata": {},
   "outputs": [
    {
     "name": "stdout",
     "output_type": "stream",
     "text": [
      "Box(-1.0, 1.0, (1,), float32) (5,)\n",
      "argv[0]=\n",
      "argv[0]=\n"
     ]
    },
    {
     "data": {
      "text/plain": [
       "array([ 0.        ,  0.        ,  0.99685371, -0.07926341,  0.        ])"
      ]
     },
     "execution_count": 14,
     "metadata": {},
     "output_type": "execute_result"
    }
   ],
   "source": [
    "env = gym.make('InvertedPendulumBulletEnv-v0')\n",
    "print(env.action_space, env.observation_space.shape)\n",
    "env.reset()"
   ]
  },
  {
   "cell_type": "code",
   "execution_count": 15,
   "metadata": {},
   "outputs": [],
   "source": [
    "sac = SoftActorCritic(env.observation_space.shape[0], action_dim=env.action_space.shape[0], hidden_size=64)"
   ]
  },
  {
   "cell_type": "code",
   "execution_count": 16,
   "metadata": {},
   "outputs": [],
   "source": [
    "best_score = env.reward_range[0]\n",
    "score_history = []\n",
    "load_checkpoint = False"
   ]
  },
  {
   "cell_type": "code",
   "execution_count": 17,
   "metadata": {},
   "outputs": [],
   "source": [
    "n_episodes = 100\n",
    "max_size = 10_000\n",
    "batch_size = 64\n",
    "learning_freq = 32"
   ]
  },
  {
   "cell_type": "code",
   "execution_count": 18,
   "metadata": {},
   "outputs": [],
   "source": [
    "from replay_buffer import ReplayBuffer\n",
    "\n",
    "replay_buffer = ReplayBuffer(max_size)"
   ]
  },
  {
   "cell_type": "code",
   "execution_count": 19,
   "metadata": {},
   "outputs": [],
   "source": [
    "def play_and_record(env, agent, buffer):\n",
    "    state = env.reset()\n",
    "    done = False\n",
    "    score = 0\n",
    "    while not done:\n",
    "        action = sac.choose_action(state)\n",
    "        next_state, reward, done, _ = env.step(action)\n",
    "        score += reward\n",
    "        buffer.add(state, action, reward, next_state, done)\n",
    "\n",
    "\n",
    "        # if len(buffer) > batch_size:\n",
    "        #     batch = replay_buffer.sample(batch_size)\n",
    "        #     sac.learning_step(batch)\n",
    "            \n",
    "        state = next_state\n",
    "    \n",
    "    return score"
   ]
  },
  {
   "cell_type": "code",
   "execution_count": 20,
   "metadata": {},
   "outputs": [],
   "source": [
    "n_episodes = 100_000"
   ]
  },
  {
   "cell_type": "code",
   "execution_count": 21,
   "metadata": {},
   "outputs": [
    {
     "data": {
      "text/plain": [
       "array([], dtype=float64)"
      ]
     },
     "execution_count": 21,
     "metadata": {},
     "output_type": "execute_result"
    }
   ],
   "source": [
    "env.reset()\n",
    "env.render()"
   ]
  },
  {
   "cell_type": "code",
   "execution_count": 22,
   "metadata": {},
   "outputs": [
    {
     "data": {
      "image/png": "[encoded data removed]",
      "text/plain": [
       "<Figure size 640x480 with 1 Axes>"
      ]
     },
     "metadata": {},
     "output_type": "display_data"
    },
    {
     "name": "stderr",
     "output_type": "stream",
     "text": [
      "  5%|▍         | 4735/100000 [07:36<2:33:03, 10.37it/s] \n"
     ]
    }
   ],
   "source": [
    "from tqdm import tqdm\n",
    "from utils import plot_learning_curve\n",
    "\n",
    "for i in tqdm(range(n_episodes)):\n",
    "    score = play_and_record(env, sac, replay_buffer)\n",
    "    if len(replay_buffer) >= batch_size:\n",
    "        batch = replay_buffer.sample(batch_size)\n",
    "        sac.learning_step(batch)\n",
    "    score_history.append(score)\n",
    "    avg_score = np.mean(score_history[-100:])\n",
    "    if avg_score > best_score:\n",
    "        best_score = avg_score\n",
    "    if i % 25 == 0 and i > 0:\n",
    "        print(f\"iteration {i} score {score:.3f} avg_score {avg_score:.3f}\")\n",
    "        plot_learning_curve(i + 1, score_history) \n",
    "\n",
    "    if avg_score > 900:\n",
    "        break"
   ]
  },
  {
   "cell_type": "code",
   "execution_count": 23,
   "metadata": {},
   "outputs": [
    {
     "name": "stderr",
     "output_type": "stream",
     "text": [
      "  0%|          | 0/250 [00:00<?, ?it/s]\n"
     ]
    },
    {
     "ename": "AttributeError",
     "evalue": "'SAC_Actor' object has no attribute 'save_checkpoint'",
     "output_type": "error",
     "traceback": [
      "\u001b[0;31m---------------------------------------------------------------------------\u001b[0m",
      "\u001b[0;31mAttributeError\u001b[0m                            Traceback (most recent call last)",
      "Cell \u001b[0;32mIn[23], line 9\u001b[0m\n\u001b[1;32m      7\u001b[0m \u001b[38;5;28;01mif\u001b[39;00m avg_score \u001b[38;5;241m>\u001b[39m best_score:\n\u001b[1;32m      8\u001b[0m     best_score \u001b[38;5;241m=\u001b[39m avg_score\n\u001b[0;32m----> 9\u001b[0m     sac\u001b[38;5;241m.\u001b[39msave_checkpoint()\n\u001b[1;32m     10\u001b[0m \u001b[38;5;28;01mif\u001b[39;00m i \u001b[38;5;241m%\u001b[39m \u001b[38;5;241m250\u001b[39m \u001b[38;5;241m==\u001b[39m \u001b[38;5;241m0\u001b[39m \u001b[38;5;129;01mand\u001b[39;00m i \u001b[38;5;241m>\u001b[39m \u001b[38;5;241m0\u001b[39m:\n\u001b[1;32m     11\u001b[0m     \u001b[38;5;28mprint\u001b[39m(\u001b[38;5;124mf\u001b[39m\u001b[38;5;124m\"\u001b[39m\u001b[38;5;124miteration \u001b[39m\u001b[38;5;132;01m{\u001b[39;00mi\u001b[38;5;132;01m}\u001b[39;00m\u001b[38;5;124m score \u001b[39m\u001b[38;5;132;01m{\u001b[39;00mscore\u001b[38;5;132;01m:\u001b[39;00m\u001b[38;5;124m.3f\u001b[39m\u001b[38;5;132;01m}\u001b[39;00m\u001b[38;5;124m avg_score \u001b[39m\u001b[38;5;132;01m{\u001b[39;00mavg_score\u001b[38;5;132;01m:\u001b[39;00m\u001b[38;5;124m.3f\u001b[39m\u001b[38;5;132;01m}\u001b[39;00m\u001b[38;5;124m\"\u001b[39m)\n",
      "File \u001b[0;32m~/Desktop/Study/Diploma/Actual_version/HindSightExperienceReplay/HindsightExperienceReplay/soft_actor_critic.py:111\u001b[0m, in \u001b[0;36mSoftActorCritic.save_checkpoint\u001b[0;34m(self)\u001b[0m\n\u001b[1;32m    108\u001b[0m \u001b[38;5;28;01mdef\u001b[39;00m \u001b[38;5;21msave_checkpoint\u001b[39m(\u001b[38;5;28mself\u001b[39m):\n\u001b[1;32m    109\u001b[0m     \u001b[38;5;28;01mfor\u001b[39;00m model \u001b[38;5;129;01min\u001b[39;00m [\u001b[38;5;28mself\u001b[39m\u001b[38;5;241m.\u001b[39mactor, \u001b[38;5;28mself\u001b[39m\u001b[38;5;241m.\u001b[39mcritic1, \u001b[38;5;28mself\u001b[39m\u001b[38;5;241m.\u001b[39mcritic2, \u001b[38;5;28mself\u001b[39m\u001b[38;5;241m.\u001b[39mtarget_critic1,\n\u001b[1;32m    110\u001b[0m                   \u001b[38;5;28mself\u001b[39m\u001b[38;5;241m.\u001b[39mtarget_critic2]:\n\u001b[0;32m--> 111\u001b[0m         model\u001b[38;5;241m.\u001b[39msave_checkpoint()\n",
      "File \u001b[0;32m~/anaconda3/lib/python3.11/site-packages/torch/nn/modules/module.py:1695\u001b[0m, in \u001b[0;36mModule.__getattr__\u001b[0;34m(self, name)\u001b[0m\n\u001b[1;32m   1693\u001b[0m     \u001b[38;5;28;01mif\u001b[39;00m name \u001b[38;5;129;01min\u001b[39;00m modules:\n\u001b[1;32m   1694\u001b[0m         \u001b[38;5;28;01mreturn\u001b[39;00m modules[name]\n\u001b[0;32m-> 1695\u001b[0m \u001b[38;5;28;01mraise\u001b[39;00m \u001b[38;5;167;01mAttributeError\u001b[39;00m(\u001b[38;5;124mf\u001b[39m\u001b[38;5;124m\"\u001b[39m\u001b[38;5;124m'\u001b[39m\u001b[38;5;132;01m{\u001b[39;00m\u001b[38;5;28mtype\u001b[39m(\u001b[38;5;28mself\u001b[39m)\u001b[38;5;241m.\u001b[39m\u001b[38;5;18m__name__\u001b[39m\u001b[38;5;132;01m}\u001b[39;00m\u001b[38;5;124m'\u001b[39m\u001b[38;5;124m object has no attribute \u001b[39m\u001b[38;5;124m'\u001b[39m\u001b[38;5;132;01m{\u001b[39;00mname\u001b[38;5;132;01m}\u001b[39;00m\u001b[38;5;124m'\u001b[39m\u001b[38;5;124m\"\u001b[39m)\n",
      "\u001b[0;31mAttributeError\u001b[0m: 'SAC_Actor' object has no attribute 'save_checkpoint'"
     ]
    }
   ],
   "source": [
    "for i in tqdm(range(250)):\n",
    "    score = play_and_record(env, sac, replay_buffer)\n",
    "    batch = replay_buffer.sample(batch_size)\n",
    "    sac.learning_step(batch)\n",
    "    score_history.append(score)\n",
    "    avg_score = np.mean(score_history[-100:])\n",
    "    if avg_score > best_score:\n",
    "        best_score = avg_score\n",
    "        sac.save_checkpoint()\n",
    "    if i % 250 == 0 and i > 0:\n",
    "        print(f\"iteration {i} score {score:.3f} avg_score {avg_score:.3f}\")\n",
    "        plot_learning_curve(i + 1, score_history) "
   ]
  }
 ],
 "metadata": {
  "kernelspec": {
   "display_name": "Python 3",
   "language": "python",
   "name": "python3"
  },
  "language_info": {
   "codemirror_mode": {
    "name": "ipython",
    "version": 3
   },
   "file_extension": ".py",
   "mimetype": "text/x-python",
   "name": "python",
   "nbconvert_exporter": "python",
   "pygments_lexer": "ipython3",
   "version": "3.11.5"
  }
 },
 "nbformat": 4,
 "nbformat_minor": 2
}
