{
 "cells": [
  {
   "cell_type": "code",
   "execution_count": 1,
   "metadata": {},
   "outputs": [],
   "source": [
    "import gymnasium as gym\n",
    "import numpy as np\n",
    "import matplotlib.pyplot as plt\n",
    "\n",
    "from tqdm import tqdm\n",
    "# from models.soft_actor_critic import SoftActorCritic\n",
    "from ddpg import DDPG\n",
    "# from rl_models.her import HindsightExperienceReplay\n",
    "from her2 import Player\n",
    "from replay_buffer import ReplayBuffer\n",
    "from utils import plot_learning_curve"
   ]
  },
  {
   "cell_type": "code",
   "execution_count": 2,
   "metadata": {},
   "outputs": [
    {
     "data": {
      "text/plain": [
       "(Box(-1.0, 1.0, (4,), float32),\n",
       " Dict('achieved_goal': Box(-inf, inf, (3,), float64), 'desired_goal': Box(-inf, inf, (3,), float64), 'observation': Box(-inf, inf, (10,), float64)))"
      ]
     },
     "execution_count": 2,
     "metadata": {},
     "output_type": "execute_result"
    }
   ],
   "source": [
    "env_name = 'FetchReach-v2'\n",
    "max_episode_steps = 50\n",
    "env = gym.make(env_name, max_episode_steps=max_episode_steps)\n",
    "\n",
    "env.action_space, env.observation_space"
   ]
  },
  {
   "cell_type": "code",
   "execution_count": 3,
   "metadata": {},
   "outputs": [
    {
     "data": {
      "text/plain": [
       "(10, 4)"
      ]
     },
     "execution_count": 3,
     "metadata": {},
     "output_type": "execute_result"
    }
   ],
   "source": [
    "state_dim = env.observation_space['observation'].shape[0]\n",
    "goal_dim = env.observation_space['desired_goal'].shape[0]\n",
    "actions_dim = env.action_space.shape[0]\n",
    "state_dim, actions_dim"
   ]
  },
  {
   "cell_type": "code",
   "execution_count": 4,
   "metadata": {},
   "outputs": [],
   "source": [
    "epochs = 100\n",
    "epoch_iters = 10\n",
    "success_history = []\n",
    "batch_size = 128\n",
    "gamma = .98"
   ]
  },
  {
   "cell_type": "code",
   "execution_count": 5,
   "metadata": {},
   "outputs": [],
   "source": [
    "desired_goal = env.reset()[0]['desired_goal']"
   ]
  },
  {
   "cell_type": "code",
   "execution_count": 6,
   "metadata": {},
   "outputs": [],
   "source": [
    "agent = DDPG(state_dim + goal_dim, actions_dim, hidden_size=128, lr=1e-3,\n",
    "              tau=0.5, gamma=gamma)\n",
    "replay_buffer = ReplayBuffer(1000000)\n",
    "player = Player(env, agent, replay_buffer)"
   ]
  },
  {
   "cell_type": "code",
   "execution_count": 7,
   "metadata": {},
   "outputs": [],
   "source": [
    "# env2 = gym.make(env_name, max_episode_steps=max_episode_steps)\n",
    "# agent2 = SoftActorCritic(state_dim + goal_dim, actions_dim, hidden_size=64, \n",
    "#                          lr=1e-3, tau=0.05, gamma=gamma)\n",
    "# replay_buffer2 = ReplayBuffer(1000000)\n",
    "# her2 = HindsightExperienceReplay(env2, agent2, replay_buffer2, \n",
    "#                                 batch_size=batch_size, max_steps=max_episode_steps\n",
    "#                                 , one_goal_task=desired_goal\n",
    "#                                 )"
   ]
  },
  {
   "cell_type": "code",
   "execution_count": 8,
   "metadata": {},
   "outputs": [],
   "source": [
    "# env3 = gym.make(env_name, max_episode_steps=max_episode_steps)\n",
    "# agent3 = SoftActorCritic(state_dim + goal_dim, actions_dim, hidden_size=64, \n",
    "#                          lr=1e-3, tau=0.95, gamma=gamma)\n",
    "# replay_buffer3 = ReplayBuffer(1000000)\n",
    "# her3 = HindsightExperienceReplay(env3, agent3, replay_buffer3, \n",
    "#                                 batch_size=batch_size, max_steps=max_episode_steps,\n",
    "#                                 one_goal_task=desired_goal)"
   ]
  },
  {
   "cell_type": "code",
   "execution_count": 9,
   "metadata": {},
   "outputs": [
    {
     "name": "stderr",
     "output_type": "stream",
     "text": [
      "/home/evgeny/anaconda3/lib/python3.11/site-packages/gymnasium/core.py:311: UserWarning: \u001b[33mWARN: env.compute_reward to get variables from other wrappers is deprecated and will be removed in v1.0, to get this variable you can do `env.unwrapped.compute_reward` for environment variables or `env.get_wrapper_attr('compute_reward')` that will search the reminding wrappers.\u001b[0m\n",
      "  logger.warn(\n"
     ]
    },
    {
     "data": {
      "text/plain": [
       "(-48.8125, 0.0)"
      ]
     },
     "execution_count": 9,
     "metadata": {},
     "output_type": "execute_result"
    }
   ],
   "source": [
    "player.play_and_record()"
   ]
  },
  {
   "cell_type": "code",
   "execution_count": 10,
   "metadata": {},
   "outputs": [],
   "source": [
    "success_history2 = []\n",
    "success_history3 = []"
   ]
  },
  {
   "cell_type": "code",
   "execution_count": 11,
   "metadata": {},
   "outputs": [
    {
     "name": "stdout",
     "output_type": "stream",
     "text": [
      "Epoch 7\n",
      "DDPG with HER       success rate = 0.0\n"
     ]
    },
    {
     "data": {
      "image/png": "[encoded data removed]",
      "text/plain": [
       "<Figure size 640x480 with 1 Axes>"
      ]
     },
     "metadata": {},
     "output_type": "display_data"
    },
    {
     "name": "stderr",
     "output_type": "stream",
     "text": [
      " 60%|██████    | 6/10 [00:27<00:18,  4.54s/it]\n"
     ]
    },
    {
     "ename": "KeyboardInterrupt",
     "evalue": "",
     "output_type": "error",
     "traceback": [
      "\u001b[0;31m---------------------------------------------------------------------------\u001b[0m",
      "\u001b[0;31mKeyboardInterrupt\u001b[0m                         Traceback (most recent call last)",
      "Cell \u001b[0;32mIn[11], line 7\u001b[0m\n\u001b[1;32m      4\u001b[0m score_history3 \u001b[38;5;241m=\u001b[39m []\n\u001b[1;32m      6\u001b[0m \u001b[38;5;28;01mfor\u001b[39;00m \u001b[38;5;28miter\u001b[39m \u001b[38;5;129;01min\u001b[39;00m tqdm(\u001b[38;5;28mrange\u001b[39m(epoch_iters)):\n\u001b[0;32m----> 7\u001b[0m     score, success \u001b[38;5;241m=\u001b[39m player\u001b[38;5;241m.\u001b[39mplay_and_record()\n\u001b[1;32m      8\u001b[0m     player\u001b[38;5;241m.\u001b[39mupdate_agent()\n\u001b[1;32m      9\u001b[0m     score_history\u001b[38;5;241m.\u001b[39mappend(\u001b[38;5;28mfloat\u001b[39m(success))\n",
      "File \u001b[0;32m~/Desktop/Study/Diploma/Actual_version/HindSightExperienceReplay/HindsightExperienceReplay/clean_version/her2.py:79\u001b[0m, in \u001b[0;36mPlayer.play_and_record\u001b[0;34m(self, using_her, epsilon, num_episodes, max_steps)\u001b[0m\n\u001b[1;32m     76\u001b[0m         \u001b[38;5;28;01mif\u001b[39;00m \u001b[38;5;129;01mnot\u001b[39;00m using_her:\n\u001b[1;32m     77\u001b[0m             \u001b[38;5;28;01mcontinue\u001b[39;00m\n\u001b[0;32m---> 79\u001b[0m         her\u001b[38;5;241m.\u001b[39mrecord(episode, achived_goals, \u001b[38;5;28mself\u001b[39m\u001b[38;5;241m.\u001b[39mbuffer,\n\u001b[1;32m     80\u001b[0m                    \u001b[38;5;28mself\u001b[39m\u001b[38;5;241m.\u001b[39menv\u001b[38;5;241m.\u001b[39mcompute_reward)\n\u001b[1;32m     82\u001b[0m \u001b[38;5;28;01mreturn\u001b[39;00m score \u001b[38;5;241m/\u001b[39m num_episodes, success \u001b[38;5;241m/\u001b[39m num_episodes\n",
      "File \u001b[0;32m~/Desktop/Study/Diploma/Actual_version/HindSightExperienceReplay/HindsightExperienceReplay/clean_version/her2.py:28\u001b[0m, in \u001b[0;36mHER.record\u001b[0;34m(self, trajectory, achived_goals, buffer, compute_reward)\u001b[0m\n\u001b[1;32m     26\u001b[0m stategoal \u001b[38;5;241m=\u001b[39m torch\u001b[38;5;241m.\u001b[39mcat([obs, current_goal], \u001b[38;5;241m-\u001b[39m\u001b[38;5;241m1\u001b[39m)\n\u001b[1;32m     27\u001b[0m nextgoal \u001b[38;5;241m=\u001b[39m torch\u001b[38;5;241m.\u001b[39mcat([next_obs, current_goal], \u001b[38;5;241m-\u001b[39m\u001b[38;5;241m1\u001b[39m)\n\u001b[0;32m---> 28\u001b[0m buffer\u001b[38;5;241m.\u001b[39madd(stategoal, action, reward, nextgoal, done)\n",
      "\u001b[0;31mKeyboardInterrupt\u001b[0m: "
     ]
    }
   ],
   "source": [
    "for epoch in range(epochs):\n",
    "    score_history = []\n",
    "    score_history2 = []\n",
    "    score_history3 = []\n",
    "\n",
    "    for iter in tqdm(range(epoch_iters)):\n",
    "        score, success = player.play_and_record()\n",
    "        player.update_agent()\n",
    "        score_history.append(float(success))\n",
    "\n",
    "        # score, success = her2.play_and_learn(num_episodes=16)\n",
    "        # score_history2.append(float(success))\n",
    "\n",
    "        # score, success = her3.play_and_learn(num_episodes=16, her=False)\n",
    "        # score_history3.append(float(success))\n",
    "    # if agent.epsilon > 0:\n",
    "    #     agent.epsilon -= 0.01\n",
    "\n",
    "    success_rate = np.mean(score_history)\n",
    "    success_history.append(success_rate)\n",
    "    plot_learning_curve(success_history, name=\"DDPG + HER\") \n",
    "\n",
    "    # success_rate2 = np.mean(score_history2)\n",
    "    # success_history2.append(success_rate2)\n",
    "    # plot_learning_curve(len(success_history2), success_history2, name=\"Soft-Actor Critic + HER\") \n",
    "\n",
    "    # success_rate3 = np.mean(score_history3)\n",
    "    # success_history3.append(success_rate3)\n",
    "    # plot_learning_curve(len(success_history3), success_history3, name=\"Soft-Actor Critic without HER\", running=True) \n",
    "\n",
    "    print(f\"Epoch {len(success_history) + 1}\")\n",
    "    print(f\"DDPG with HER       success rate = {success_rate}\")\n",
    "    # print(f\"Soft-Actor Critic with HER      success rate = {success_rate2}\")\n",
    "    # print(f\"Soft-Actor Critic without HER       success rate = {success_rate3}\")\n",
    "    plt.show()"
   ]
  }
 ],
 "metadata": {
  "kernelspec": {
   "display_name": "base",
   "language": "python",
   "name": "python3"
  },
  "language_info": {
   "codemirror_mode": {
    "name": "ipython",
    "version": 3
   },
   "file_extension": ".py",
   "mimetype": "text/x-python",
   "name": "python",
   "nbconvert_exporter": "python",
   "pygments_lexer": "ipython3",
   "version": "3.11.5"
  }
 },
 "nbformat": 4,
 "nbformat_minor": 2
}
