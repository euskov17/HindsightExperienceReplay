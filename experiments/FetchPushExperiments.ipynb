{
 "cells": [
  {
   "cell_type": "code",
   "execution_count": 1,
   "metadata": {},
   "outputs": [
    {
     "name": "stderr",
     "output_type": "stream",
     "text": [
      "/home/evgeny/anaconda3/lib/python3.11/site-packages/gymnasium/envs/registration.py:877: UserWarning: \u001b[33mWARN: `gymnasium.make(..., autoreset=True)` is deprecated and will be removed in v1.0\u001b[0m\n",
      "  logger.warn(\n"
     ]
    }
   ],
   "source": [
    "import gymnasium as gym\n",
    "import numpy as np\n",
    "\n",
    "\n",
    "max_episode_steps = 64\n",
    "env = gym.make('FetchPush-v2', max_episode_steps=max_episode_steps, autoreset=True)"
   ]
  },
  {
   "cell_type": "code",
   "execution_count": 2,
   "metadata": {},
   "outputs": [
    {
     "data": {
      "text/plain": [
       "(Box(-1.0, 1.0, (4,), float32),\n",
       " Dict('achieved_goal': Box(-inf, inf, (3,), float64), 'desired_goal': Box(-inf, inf, (3,), float64), 'observation': Box(-inf, inf, (25,), float64)))"
      ]
     },
     "execution_count": 2,
     "metadata": {},
     "output_type": "execute_result"
    }
   ],
   "source": [
    "env.action_space, env.observation_space"
   ]
  },
  {
   "cell_type": "code",
   "execution_count": 3,
   "metadata": {},
   "outputs": [],
   "source": [
    "class RandomAgent:\n",
    "    def get_action(self, state):\n",
    "        return env.action_space.sample()"
   ]
  },
  {
   "cell_type": "code",
   "execution_count": 4,
   "metadata": {},
   "outputs": [
    {
     "data": {
      "text/plain": [
       "({'observation': array([ 1.34815922e+00,  7.48950902e-01,  4.13618685e-01,  1.27119428e+00,\n",
       "          6.28275915e-01,  4.24702091e-01, -7.69649452e-02, -1.20674987e-01,\n",
       "          1.10834063e-02, -1.50944836e-06,  1.25159772e-03, -8.82449685e-08,\n",
       "          1.35761490e-07,  4.67863609e-15,  9.30919601e-04, -4.11979931e-05,\n",
       "          3.89350461e-05,  5.03907166e-08, -7.75241793e-08,  2.87432303e-20,\n",
       "         -9.30921536e-04,  4.11967353e-05,  7.89271962e-06,  3.79757618e-07,\n",
       "          4.39314913e-05]),\n",
       "  'achieved_goal': array([1.27119428, 0.62827592, 0.42470209]),\n",
       "  'desired_goal': array([1.31205725, 0.81696822, 0.42469975])},\n",
       " {})"
      ]
     },
     "execution_count": 4,
     "metadata": {},
     "output_type": "execute_result"
    }
   ],
   "source": [
    "env.reset()"
   ]
  },
  {
   "cell_type": "code",
   "execution_count": 5,
   "metadata": {},
   "outputs": [
    {
     "data": {
      "text/plain": [
       "({'observation': array([ 1.32544909e+00,  7.75228684e-01,  4.28917286e-01,  1.27119428e+00,\n",
       "          6.28275914e-01,  4.24737381e-01, -5.42548082e-02, -1.46952770e-01,\n",
       "         -4.17990467e-03,  0.00000000e+00,  0.00000000e+00, -5.03884423e-08,\n",
       "          7.75206804e-08,  6.40621002e-16,  2.17988791e-02, -2.51521036e-02,\n",
       "         -8.57830568e-03,  2.85323085e-08, -4.38958592e-08,  1.15281872e-18,\n",
       "         -2.17988802e-02,  2.51521029e-02,  8.60497124e-03,  3.05001453e-04,\n",
       "          4.05393563e-03]),\n",
       "  'achieved_goal': array([1.27119428, 0.62827591, 0.42473738]),\n",
       "  'desired_goal': array([1.31205725, 0.81696822, 0.42469975])},\n",
       " -1.0,\n",
       " False,\n",
       " False,\n",
       " {'is_success': 0.0})"
      ]
     },
     "execution_count": 5,
     "metadata": {},
     "output_type": "execute_result"
    }
   ],
   "source": [
    "env.step(env.action_space.sample())"
   ]
  },
  {
   "cell_type": "code",
   "execution_count": 6,
   "metadata": {},
   "outputs": [],
   "source": [
    "random_agent = RandomAgent()"
   ]
  },
  {
   "cell_type": "code",
   "execution_count": 7,
   "metadata": {},
   "outputs": [],
   "source": [
    "from tqdm import tqdm\n",
    "\n",
    "def play_game(agent):\n",
    "    state = env.reset()\n",
    "    done = False\n",
    "    score = 0.0\n",
    "    for i in range(max_episode_steps):\n",
    "        action = agent.get_action(state)\n",
    "        next_state, reward, done, _, _ = env.step(action)\n",
    "        \n",
    "        score += reward\n",
    "        state = next_state\n",
    "        if done:\n",
    "            break\n",
    "    return score"
   ]
  },
  {
   "cell_type": "code",
   "execution_count": 8,
   "metadata": {},
   "outputs": [
    {
     "name": "stderr",
     "output_type": "stream",
     "text": [
      "100%|██████████| 10/10 [00:01<00:00,  7.38it/s]\n"
     ]
    },
    {
     "data": {
      "image/png": "[encoded data removed]",
      "text/plain": [
       "<Figure size 640x480 with 1 Axes>"
      ]
     },
     "metadata": {},
     "output_type": "display_data"
    },
    {
     "data": {
      "text/plain": [
       "-51.2"
      ]
     },
     "execution_count": 8,
     "metadata": {},
     "output_type": "execute_result"
    }
   ],
   "source": [
    "import matplotlib.pyplot as plt\n",
    "import numpy as np\n",
    "tests = []\n",
    "for i in tqdm(range(10)):\n",
    "    result = play_game(random_agent)\n",
    "    tests.append(result)\n",
    "    \n",
    "plt.hist(tests) \n",
    "plt.show()\n",
    "np.mean(tests)"
   ]
  },
  {
   "cell_type": "code",
   "execution_count": 9,
   "metadata": {},
   "outputs": [
    {
     "data": {
      "text/plain": [
       "(25, 4)"
      ]
     },
     "execution_count": 9,
     "metadata": {},
     "output_type": "execute_result"
    }
   ],
   "source": [
    "state_dim = env.observation_space['observation'].shape[0]\n",
    "goal_dim = env.observation_space['desired_goal'].shape[0]\n",
    "actions_dim = env.action_space.shape[0]\n",
    "state_dim, actions_dim"
   ]
  },
  {
   "cell_type": "code",
   "execution_count": 10,
   "metadata": {},
   "outputs": [],
   "source": [
    "from soft_actor_critic import SoftActorCritic\n",
    "from replay_buffer import ReplayBuffer\n",
    "\n",
    "agent = SoftActorCritic(state_dim + goal_dim, actions_dim, hidden_size=256)\n",
    "replay_buffer = ReplayBuffer(100000)\n",
    "batch_size = 128"
   ]
  },
  {
   "cell_type": "code",
   "execution_count": 11,
   "metadata": {},
   "outputs": [],
   "source": [
    "from her import HindsightExperienceReplay\n",
    "\n",
    "her = HindsightExperienceReplay(env, agent, replay_buffer, \n",
    "                                batch_size=batch_size, max_steps=max_episode_steps)"
   ]
  },
  {
   "cell_type": "code",
   "execution_count": 12,
   "metadata": {},
   "outputs": [
    {
     "name": "stderr",
     "output_type": "stream",
     "text": [
      "/home/evgeny/Desktop/Study/Diploma/Actual_version/HindSightExperienceReplay/HindsightExperienceReplay/soft_actor_critic.py:101: UserWarning: Creating a tensor from a list of numpy.ndarrays is extremely slow. Please consider converting the list to a single numpy.ndarray with numpy.array() before converting to a tensor. (Triggered internally at ../torch/csrc/utils/tensor_new.cpp:261.)\n",
      "  state = torch.tensor([observation], device=self.device, dtype=torch.float32)\n"
     ]
    },
    {
     "data": {
      "text/plain": [
       "(-64.0, 0.0)"
      ]
     },
     "execution_count": 12,
     "metadata": {},
     "output_type": "execute_result"
    }
   ],
   "source": [
    "her.play_and_learn()"
   ]
  },
  {
   "cell_type": "code",
   "execution_count": 13,
   "metadata": {},
   "outputs": [],
   "source": [
    "epochs = 100\n",
    "epoch_iters = 50\n",
    "success_history = []"
   ]
  },
  {
   "cell_type": "code",
   "execution_count": 14,
   "metadata": {},
   "outputs": [
    {
     "name": "stdout",
     "output_type": "stream",
     "text": [
      "Epoch 1 success rate = 0.0\n"
     ]
    },
    {
     "data": {
      "image/png": "[encoded data removed]",
      "text/plain": [
       "<Figure size 640x480 with 1 Axes>"
      ]
     },
     "metadata": {},
     "output_type": "display_data"
    },
    {
     "name": "stderr",
     "output_type": "stream",
     "text": [
      "  6%|▌         | 3/50 [00:11<02:57,  3.78s/it]\n"
     ]
    },
    {
     "ename": "KeyboardInterrupt",
     "evalue": "",
     "output_type": "error",
     "traceback": [
      "\u001b[0;31m---------------------------------------------------------------------------\u001b[0m",
      "\u001b[0;31mKeyboardInterrupt\u001b[0m                         Traceback (most recent call last)",
      "Cell \u001b[0;32mIn[14], line 10\u001b[0m\n\u001b[1;32m      8\u001b[0m score_history2 \u001b[38;5;241m=\u001b[39m []\n\u001b[1;32m      9\u001b[0m \u001b[38;5;28;01mfor\u001b[39;00m \u001b[38;5;28miter\u001b[39m \u001b[38;5;129;01min\u001b[39;00m tqdm(\u001b[38;5;28mrange\u001b[39m(epoch_iters)):\n\u001b[0;32m---> 10\u001b[0m     score, success \u001b[38;5;241m=\u001b[39m her\u001b[38;5;241m.\u001b[39mplay_and_learn(num_episodes\u001b[38;5;241m=\u001b[39m\u001b[38;5;241m16\u001b[39m)\n\u001b[1;32m     11\u001b[0m     score_history\u001b[38;5;241m.\u001b[39mappend(\u001b[38;5;28mfloat\u001b[39m(success))\n\u001b[1;32m     13\u001b[0m \u001b[38;5;66;03m# if agent.epsilon > 0:\u001b[39;00m\n\u001b[1;32m     14\u001b[0m \u001b[38;5;66;03m#     agent.epsilon -= 0.01\u001b[39;00m\n",
      "File \u001b[0;32m~/Desktop/Study/Diploma/Actual_version/HindSightExperienceReplay/HindsightExperienceReplay/her.py:49\u001b[0m, in \u001b[0;36mHindsightExperienceReplay.play_and_learn\u001b[0;34m(self, num_episodes, her)\u001b[0m\n\u001b[1;32m     47\u001b[0m \u001b[38;5;28;01mfor\u001b[39;00m step \u001b[38;5;129;01min\u001b[39;00m \u001b[38;5;28mrange\u001b[39m(\u001b[38;5;28mself\u001b[39m\u001b[38;5;241m.\u001b[39mmax_steps):\n\u001b[1;32m     48\u001b[0m     stategoal \u001b[38;5;241m=\u001b[39m np\u001b[38;5;241m.\u001b[39mconcatenate([state[\u001b[38;5;124m'\u001b[39m\u001b[38;5;124mobservation\u001b[39m\u001b[38;5;124m'\u001b[39m], goal], \u001b[38;5;241m-\u001b[39m\u001b[38;5;241m1\u001b[39m)\n\u001b[0;32m---> 49\u001b[0m     action \u001b[38;5;241m=\u001b[39m \u001b[38;5;28mself\u001b[39m\u001b[38;5;241m.\u001b[39magent\u001b[38;5;241m.\u001b[39mchoose_action(stategoal)\n\u001b[1;32m     51\u001b[0m     next_state, reward, done, _, _ \u001b[38;5;241m=\u001b[39m \u001b[38;5;28mself\u001b[39m\u001b[38;5;241m.\u001b[39menv\u001b[38;5;241m.\u001b[39mstep(action)\n\u001b[1;32m     52\u001b[0m     score \u001b[38;5;241m+\u001b[39m\u001b[38;5;241m=\u001b[39m reward\n",
      "File \u001b[0;32m~/Desktop/Study/Diploma/Actual_version/HindSightExperienceReplay/HindsightExperienceReplay/soft_actor_critic.py:101\u001b[0m, in \u001b[0;36mSoftActorCritic.choose_action\u001b[0;34m(self, observation)\u001b[0m\n\u001b[1;32m     98\u001b[0m \u001b[38;5;28;01mdef\u001b[39;00m \u001b[38;5;21mchoose_action\u001b[39m(\u001b[38;5;28mself\u001b[39m, observation):\n\u001b[1;32m     99\u001b[0m     \u001b[38;5;66;03m# if len(observation.shape) == 1:\u001b[39;00m\n\u001b[1;32m    100\u001b[0m     \u001b[38;5;66;03m#     observation = [observation]\u001b[39;00m\n\u001b[0;32m--> 101\u001b[0m     state \u001b[38;5;241m=\u001b[39m torch\u001b[38;5;241m.\u001b[39mtensor([observation], device\u001b[38;5;241m=\u001b[39m\u001b[38;5;28mself\u001b[39m\u001b[38;5;241m.\u001b[39mdevice, dtype\u001b[38;5;241m=\u001b[39mtorch\u001b[38;5;241m.\u001b[39mfloat32)\n\u001b[1;32m    102\u001b[0m     \u001b[38;5;28;01mreturn\u001b[39;00m \u001b[38;5;28mself\u001b[39m\u001b[38;5;241m.\u001b[39mactor\u001b[38;5;241m.\u001b[39mget_action(state)\u001b[38;5;241m.\u001b[39msqueeze(\u001b[38;5;241m0\u001b[39m)\n",
      "\u001b[0;31mKeyboardInterrupt\u001b[0m: "
     ]
    }
   ],
   "source": [
    "from tqdm import tqdm\n",
    "import numpy as np\n",
    "from utils import plot_learning_curve\n",
    "import matplotlib.pyplot as plt\n",
    "\n",
    "for epoch in range(epochs):\n",
    "    score_history = []\n",
    "    score_history2 = []\n",
    "    for iter in tqdm(range(epoch_iters)):\n",
    "        score, success = her.play_and_learn(num_episodes=16)\n",
    "        score_history.append(float(success))\n",
    "\n",
    "    # if agent.epsilon > 0:\n",
    "    #     agent.epsilon -= 0.01\n",
    "\n",
    "    success_rate = np.mean(score_history)\n",
    "    success_history.append(success_rate)\n",
    "    plot_learning_curve(len(success_history), success_history, name=\"DQN + HER\") \n",
    "\n",
    "    print(f\"Epoch {epoch + 1} success rate = {success_rate}\")\n",
    "    plt.show()"
   ]
  },
  {
   "cell_type": "code",
   "execution_count": null,
   "metadata": {},
   "outputs": [
    {
     "data": {
      "text/plain": [
       "[0.0525,\n",
       " 0.075,\n",
       " 0.1025,\n",
       " 0.0725,\n",
       " 0.0625,\n",
       " 0.0525,\n",
       " 0.06,\n",
       " 0.045,\n",
       " 0.0875,\n",
       " 0.07,\n",
       " 0.09,\n",
       " 0.0975,\n",
       " 0.085,\n",
       " 0.085,\n",
       " 0.065,\n",
       " 0.08,\n",
       " 0.085,\n",
       " 0.0675,\n",
       " 0.09,\n",
       " 0.09,\n",
       " 0.09,\n",
       " 0.0725,\n",
       " 0.0825,\n",
       " 0.125,\n",
       " 0.08,\n",
       " 0.08,\n",
       " 0.0725,\n",
       " 0.09,\n",
       " 0.0775,\n",
       " 0.0625,\n",
       " 0.07,\n",
       " 0.1,\n",
       " 0.0925,\n",
       " 0.0725,\n",
       " 0.0975,\n",
       " 0.1,\n",
       " 0.0975,\n",
       " 0.0875,\n",
       " 0.0675,\n",
       " 0.065,\n",
       " 0.0875,\n",
       " 0.0875,\n",
       " 0.095,\n",
       " 0.065,\n",
       " 0.06,\n",
       " 0.0775,\n",
       " 0.0525,\n",
       " 0.09,\n",
       " 0.07,\n",
       " 0.06]"
      ]
     },
     "execution_count": 15,
     "metadata": {},
     "output_type": "execute_result"
    }
   ],
   "source": [
    "success_history"
   ]
  },
  {
   "cell_type": "code",
   "execution_count": null,
   "metadata": {},
   "outputs": [],
   "source": [
    "# def play_and_record(env, agent, buffer):\n",
    "#     state = env.reset()[0]\n",
    "#     # print(state)\n",
    "#     done = False\n",
    "#     score = 0\n",
    "#     for i in range(max_episode_steps):\n",
    "#         obs = state['observation']#.astype(np.float32)\n",
    "#         # print(obs)\n",
    "#         action = agent.choose_action(obs)\n",
    "#         # print(action)\n",
    "#         next_state, reward, done, _, _ = env.step(action)\n",
    "#         score += reward\n",
    "#         # print(obs, action, reward, next_state['observation'], done)\n",
    "#         buffer.add(obs, action, reward, next_state['observation'], done)\n",
    "        \n",
    "#         if len(buffer) > batch_size:\n",
    "#             batch = replay_buffer.sample(batch_size)\n",
    "#             agent.learning_step(batch)\n",
    "            \n",
    "#         state = next_state\n",
    "#         if done:\n",
    "#             break\n",
    "    \n",
    "#     return score"
   ]
  },
  {
   "cell_type": "code",
   "execution_count": null,
   "metadata": {},
   "outputs": [],
   "source": [
    "# from tqdm import tqdm\n",
    "# import numpy as np\n",
    "# from utils import plot_learning_curve\n",
    "\n",
    "# n_epochs = 50\n",
    "# n_episodes_per_ehoch = 100\n",
    "# batch_size = 64\n",
    "# # score_history = []\n",
    "# best_score = env.reward_range[0]\n",
    "# plts = []\n",
    "# for epoch in tqdm(range(n_epochs)):\n",
    "#     score_history = []\n",
    "#     for i in range(n_episodes_per_ehoch):\n",
    "#         score = play_and_record(env, agent, replay_buffer)\n",
    "#         # if len(replay_buffer) >= batch_size:\n",
    "#         #     batch = replay_buffer.sample(batch_size)\n",
    "#         #     agent.learning_step(batch)\n",
    "#         score_history.append(score != -max_episode_steps)\n",
    "#         avg_score = np.mean(score_history[-100:])\n",
    "#         if avg_score > best_score:\n",
    "#             best_score = avg_score\n",
    "#         # if i % 10 == 0 and i > 0:\n",
    "#         #     print(f\"iteration {i} score {score:.3f} avg_score {avg_score:.3f}\")\n",
    "#     plts.append(np.mean(score_history))\n",
    "#     plot_learning_curve(epoch + 1, plts) "
   ]
  },
  {
   "cell_type": "code",
   "execution_count": null,
   "metadata": {},
   "outputs": [],
   "source": [
    "# agent = SoftActorCritic()"
   ]
  }
 ],
 "metadata": {
  "kernelspec": {
   "display_name": "base",
   "language": "python",
   "name": "python3"
  },
  "language_info": {
   "codemirror_mode": {
    "name": "ipython",
    "version": 3
   },
   "file_extension": ".py",
   "mimetype": "text/x-python",
   "name": "python",
   "nbconvert_exporter": "python",
   "pygments_lexer": "ipython3",
   "version": "3.11.5"
  }
 },
 "nbformat": 4,
 "nbformat_minor": 2
}
