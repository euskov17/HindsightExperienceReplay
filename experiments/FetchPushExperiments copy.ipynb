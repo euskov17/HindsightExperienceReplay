{
 "cells": [
  {
   "cell_type": "code",
   "execution_count": 1,
   "metadata": {},
   "outputs": [],
   "source": [
    "import sys\n",
    "sys.path.append('..')"
   ]
  },
  {
   "cell_type": "code",
   "execution_count": 2,
   "metadata": {},
   "outputs": [],
   "source": [
    "import gymnasium as gym\n",
    "import numpy as np\n",
    "import matplotlib.pyplot as plt\n",
    "\n",
    "from tqdm import tqdm\n",
    "from models.soft_actor_critic import SoftActorCritic\n",
    "from models.ddpg import DDPG\n",
    "from rl_models.her_player import Player\n",
    "from rl_models.replay_buffer import ReplayBuffer\n",
    "from rl_models.utils import plot_learning_curve"
   ]
  },
  {
   "cell_type": "code",
   "execution_count": 3,
   "metadata": {},
   "outputs": [
    {
     "data": {
      "text/plain": [
       "(Box(-1.0, 1.0, (4,), float32),\n",
       " Dict('achieved_goal': Box(-inf, inf, (3,), float64), 'desired_goal': Box(-inf, inf, (3,), float64), 'observation': Box(-inf, inf, (25,), float64)))"
      ]
     },
     "execution_count": 3,
     "metadata": {},
     "output_type": "execute_result"
    }
   ],
   "source": [
    "env_name = 'FetchPush-v2'\n",
    "max_episode_steps = 50\n",
    "env = gym.make(env_name, max_episode_steps=max_episode_steps)\n",
    "\n",
    "env.action_space, env.observation_space"
   ]
  },
  {
   "cell_type": "code",
   "execution_count": 4,
   "metadata": {},
   "outputs": [
    {
     "data": {
      "text/plain": [
       "(25, 4)"
      ]
     },
     "execution_count": 4,
     "metadata": {},
     "output_type": "execute_result"
    }
   ],
   "source": [
    "state_dim = env.observation_space['observation'].shape[0]\n",
    "goal_dim = env.observation_space['desired_goal'].shape[0]\n",
    "actions_dim = env.action_space.shape[0]\n",
    "state_dim, actions_dim"
   ]
  },
  {
   "cell_type": "code",
   "execution_count": 5,
   "metadata": {},
   "outputs": [],
   "source": [
    "epochs = 50\n",
    "epoch_iters = 50\n",
    "success_history = []\n",
    "batch_size = 256\n",
    "gamma = .98"
   ]
  },
  {
   "cell_type": "code",
   "execution_count": 6,
   "metadata": {},
   "outputs": [],
   "source": [
    "desired_goal = env.reset()[0]['desired_goal']"
   ]
  },
  {
   "cell_type": "code",
   "execution_count": 7,
   "metadata": {},
   "outputs": [],
   "source": [
    "# env2 = gym.make(env_name, max_episode_steps=max_episode_steps)\n",
    "agent = DDPG(state_dim + goal_dim, actions_dim, \n",
    "             hidden_size=256, lr=1e-3,\n",
    "              tau=0.5, gamma=gamma, clip_bounds=(-1.0/ (1.0 - gamma), 0.0))\n",
    "replay_buffer = ReplayBuffer(int(1e6))\n",
    "player = Player(env, agent, replay_buffer)"
   ]
  },
  {
   "cell_type": "code",
   "execution_count": 8,
   "metadata": {},
   "outputs": [],
   "source": [
    "# agent2 = SoftActorCritic(state_dim + goal_dim, actions_dim, \n",
    "#                          hidden_size=128, lr=1e-3,\n",
    "#               tau=0.05, gamma=gamma)\n",
    "# replay_buffer2 = ReplayBuffer(int(1e6))\n",
    "# player2 = Player(env2, agent2, replay_buffer2)"
   ]
  },
  {
   "cell_type": "code",
   "execution_count": 9,
   "metadata": {},
   "outputs": [],
   "source": [
    "# env2 = gym.make(env_name, max_episode_steps=max_episode_steps)\n",
    "# agent2 = SoftActorCritic(state_dim + goal_dim, actions_dim, hidden_size=256, \n",
    "#                          lr=1e-3, tau=0.05, gamma=gamma)\n",
    "# replay_buffer2 = ReplayBuffer(1000000)\n",
    "# her2 = HindsightExperienceReplay(env2, agent2, replay_buffer2, \n",
    "#                                 batch_size=batch_size, max_steps=max_episode_steps)"
   ]
  },
  {
   "cell_type": "code",
   "execution_count": 10,
   "metadata": {},
   "outputs": [],
   "source": [
    "# env3 = gym.make(env_name, max_episode_steps=max_episode_steps)\n",
    "# agent3 = SoftActorCritic(state_dim + goal_dim, actions_dim, hidden_size=64, \n",
    "#                          lr=1e-3, tau=0.95, gamma=gamma)\n",
    "# replay_buffer3 = ReplayBuffer(1000000)\n",
    "# her3 = HindsightExperienceReplay(env3, agent3, replay_buffer3, \n",
    "#                                 batch_size=batch_size, max_steps=max_episode_steps,\n",
    "#                                 one_goal_task=desired_goal)"
   ]
  },
  {
   "cell_type": "code",
   "execution_count": 11,
   "metadata": {},
   "outputs": [],
   "source": [
    "# her2.play_and_learn()"
   ]
  },
  {
   "cell_type": "code",
   "execution_count": 12,
   "metadata": {},
   "outputs": [],
   "source": [
    "success_history2 = []\n",
    "success_history3 = []"
   ]
  },
  {
   "cell_type": "code",
   "execution_count": 13,
   "metadata": {},
   "outputs": [
    {
     "name": "stdout",
     "output_type": "stream",
     "text": [
      "-18.17 0.95\n",
      "Epoch 20\n",
      "DDPG with HER       success rate = 0.95\n"
     ]
    },
    {
     "data": {
      "image/png": "[encoded data removed]",
      "text/plain": [
       "<Figure size 640x480 with 1 Axes>"
      ]
     },
     "metadata": {},
     "output_type": "display_data"
    },
    {
     "name": "stderr",
     "output_type": "stream",
     "text": [
      "100%|██████████| 50/50 [02:31<00:00,  3.02s/it]\n"
     ]
    },
    {
     "ename": "KeyboardInterrupt",
     "evalue": "",
     "output_type": "error",
     "traceback": [
      "\u001b[0;31m---------------------------------------------------------------------------\u001b[0m",
      "\u001b[0;31mKeyboardInterrupt\u001b[0m                         Traceback (most recent call last)",
      "Cell \u001b[0;32mIn[13], line 29\u001b[0m\n\u001b[1;32m     12\u001b[0m     player\u001b[38;5;241m.\u001b[39mupdate_agent(batch_size\u001b[38;5;241m=\u001b[39mbatch_size)\n\u001b[1;32m     13\u001b[0m     \u001b[38;5;66;03m# player.update_network_parameters()\u001b[39;00m\n\u001b[1;32m     14\u001b[0m     \u001b[38;5;66;03m# score_history.append(float(success))\u001b[39;00m\n\u001b[1;32m     15\u001b[0m \n\u001b[0;32m   (...)\u001b[0m\n\u001b[1;32m     27\u001b[0m \n\u001b[1;32m     28\u001b[0m \u001b[38;5;66;03m# score, success_rate = player.play_and_record(epsilon=epsilon, train=False)\u001b[39;00m\n\u001b[0;32m---> 29\u001b[0m score, success_rate \u001b[38;5;241m=\u001b[39m player\u001b[38;5;241m.\u001b[39mplay_test(n_tests\u001b[38;5;241m=\u001b[39m\u001b[38;5;241m100\u001b[39m)\n\u001b[1;32m     30\u001b[0m \u001b[38;5;66;03m# success_rate = np.mean(score_history)\u001b[39;00m\n\u001b[1;32m     31\u001b[0m success_history\u001b[38;5;241m.\u001b[39mappend(success_rate)\n",
      "File \u001b[0;32m~/Desktop/Study/Diploma/Actual_version/HindSightExperienceReplay/HindsightExperienceReplay/experiments/../rl_models/her_player.py:15\u001b[0m, in \u001b[0;36mPlayer.play_test\u001b[0;34m(self, n_tests, max_steps)\u001b[0m\n\u001b[1;32m     14\u001b[0m \u001b[38;5;28;01mdef\u001b[39;00m \u001b[38;5;21mplay_test\u001b[39m(\u001b[38;5;28mself\u001b[39m, n_tests, max_steps\u001b[38;5;241m=\u001b[39m\u001b[38;5;241m50\u001b[39m):\n\u001b[0;32m---> 15\u001b[0m     results \u001b[38;5;241m=\u001b[39m np\u001b[38;5;241m.\u001b[39marray([\u001b[38;5;28mself\u001b[39m\u001b[38;5;241m.\u001b[39mplay_episode(train\u001b[38;5;241m=\u001b[39m\u001b[38;5;28;01mFalse\u001b[39;00m, max_steps\u001b[38;5;241m=\u001b[39mmax_steps)\n\u001b[1;32m     16\u001b[0m                         \u001b[38;5;28;01mfor\u001b[39;00m _ \u001b[38;5;129;01min\u001b[39;00m \u001b[38;5;28mrange\u001b[39m(n_tests)])\n\u001b[1;32m     17\u001b[0m     \u001b[38;5;28;01mreturn\u001b[39;00m \u001b[38;5;28mtuple\u001b[39m(np\u001b[38;5;241m.\u001b[39mmean(results, \u001b[38;5;241m0\u001b[39m))\n",
      "File \u001b[0;32m~/Desktop/Study/Diploma/Actual_version/HindSightExperienceReplay/HindsightExperienceReplay/experiments/../rl_models/her_player.py:15\u001b[0m, in \u001b[0;36m<listcomp>\u001b[0;34m(.0)\u001b[0m\n\u001b[1;32m     14\u001b[0m \u001b[38;5;28;01mdef\u001b[39;00m \u001b[38;5;21mplay_test\u001b[39m(\u001b[38;5;28mself\u001b[39m, n_tests, max_steps\u001b[38;5;241m=\u001b[39m\u001b[38;5;241m50\u001b[39m):\n\u001b[0;32m---> 15\u001b[0m     results \u001b[38;5;241m=\u001b[39m np\u001b[38;5;241m.\u001b[39marray([\u001b[38;5;28mself\u001b[39m\u001b[38;5;241m.\u001b[39mplay_episode(train\u001b[38;5;241m=\u001b[39m\u001b[38;5;28;01mFalse\u001b[39;00m, max_steps\u001b[38;5;241m=\u001b[39mmax_steps)\n\u001b[1;32m     16\u001b[0m                         \u001b[38;5;28;01mfor\u001b[39;00m _ \u001b[38;5;129;01min\u001b[39;00m \u001b[38;5;28mrange\u001b[39m(n_tests)])\n\u001b[1;32m     17\u001b[0m     \u001b[38;5;28;01mreturn\u001b[39;00m \u001b[38;5;28mtuple\u001b[39m(np\u001b[38;5;241m.\u001b[39mmean(results, \u001b[38;5;241m0\u001b[39m))\n",
      "File \u001b[0;32m~/Desktop/Study/Diploma/Actual_version/HindSightExperienceReplay/HindsightExperienceReplay/experiments/../rl_models/her_player.py:36\u001b[0m, in \u001b[0;36mPlayer.play_episode\u001b[0;34m(self, epsilon, max_steps, train)\u001b[0m\n\u001b[1;32m     33\u001b[0m \u001b[38;5;28;01melse\u001b[39;00m:\n\u001b[1;32m     34\u001b[0m     action \u001b[38;5;241m=\u001b[39m \u001b[38;5;28mself\u001b[39m\u001b[38;5;241m.\u001b[39magent\u001b[38;5;241m.\u001b[39mchoose_action(stategoal, train\u001b[38;5;241m=\u001b[39m\u001b[38;5;28;01mTrue\u001b[39;00m)\n\u001b[0;32m---> 36\u001b[0m next_state, reward, done, _, info \u001b[38;5;241m=\u001b[39m \u001b[38;5;28mself\u001b[39m\u001b[38;5;241m.\u001b[39menv\u001b[38;5;241m.\u001b[39mstep(action\u001b[38;5;241m.\u001b[39mnumpy())\n\u001b[1;32m     37\u001b[0m score \u001b[38;5;241m+\u001b[39m\u001b[38;5;241m=\u001b[39m reward\n\u001b[1;32m     38\u001b[0m state \u001b[38;5;241m=\u001b[39m next_state\n",
      "File \u001b[0;32m~/anaconda3/lib/python3.11/site-packages/gymnasium/wrappers/time_limit.py:57\u001b[0m, in \u001b[0;36mTimeLimit.step\u001b[0;34m(self, action)\u001b[0m\n\u001b[1;32m     46\u001b[0m \u001b[38;5;28;01mdef\u001b[39;00m \u001b[38;5;21mstep\u001b[39m(\u001b[38;5;28mself\u001b[39m, action):\n\u001b[1;32m     47\u001b[0m \u001b[38;5;250m    \u001b[39m\u001b[38;5;124;03m\"\"\"Steps through the environment and if the number of steps elapsed exceeds ``max_episode_steps`` then truncate.\u001b[39;00m\n\u001b[1;32m     48\u001b[0m \n\u001b[1;32m     49\u001b[0m \u001b[38;5;124;03m    Args:\u001b[39;00m\n\u001b[0;32m   (...)\u001b[0m\n\u001b[1;32m     55\u001b[0m \n\u001b[1;32m     56\u001b[0m \u001b[38;5;124;03m    \"\"\"\u001b[39;00m\n\u001b[0;32m---> 57\u001b[0m     observation, reward, terminated, truncated, info \u001b[38;5;241m=\u001b[39m \u001b[38;5;28mself\u001b[39m\u001b[38;5;241m.\u001b[39menv\u001b[38;5;241m.\u001b[39mstep(action)\n\u001b[1;32m     58\u001b[0m     \u001b[38;5;28mself\u001b[39m\u001b[38;5;241m.\u001b[39m_elapsed_steps \u001b[38;5;241m+\u001b[39m\u001b[38;5;241m=\u001b[39m \u001b[38;5;241m1\u001b[39m\n\u001b[1;32m     60\u001b[0m     \u001b[38;5;28;01mif\u001b[39;00m \u001b[38;5;28mself\u001b[39m\u001b[38;5;241m.\u001b[39m_elapsed_steps \u001b[38;5;241m>\u001b[39m\u001b[38;5;241m=\u001b[39m \u001b[38;5;28mself\u001b[39m\u001b[38;5;241m.\u001b[39m_max_episode_steps:\n",
      "File \u001b[0;32m~/anaconda3/lib/python3.11/site-packages/gymnasium/wrappers/order_enforcing.py:56\u001b[0m, in \u001b[0;36mOrderEnforcing.step\u001b[0;34m(self, action)\u001b[0m\n\u001b[1;32m     54\u001b[0m \u001b[38;5;28;01mif\u001b[39;00m \u001b[38;5;129;01mnot\u001b[39;00m \u001b[38;5;28mself\u001b[39m\u001b[38;5;241m.\u001b[39m_has_reset:\n\u001b[1;32m     55\u001b[0m     \u001b[38;5;28;01mraise\u001b[39;00m ResetNeeded(\u001b[38;5;124m\"\u001b[39m\u001b[38;5;124mCannot call env.step() before calling env.reset()\u001b[39m\u001b[38;5;124m\"\u001b[39m)\n\u001b[0;32m---> 56\u001b[0m \u001b[38;5;28;01mreturn\u001b[39;00m \u001b[38;5;28mself\u001b[39m\u001b[38;5;241m.\u001b[39menv\u001b[38;5;241m.\u001b[39mstep(action)\n",
      "File \u001b[0;32m~/anaconda3/lib/python3.11/site-packages/gymnasium/wrappers/env_checker.py:51\u001b[0m, in \u001b[0;36mPassiveEnvChecker.step\u001b[0;34m(self, action)\u001b[0m\n\u001b[1;32m     49\u001b[0m     \u001b[38;5;28;01mreturn\u001b[39;00m env_step_passive_checker(\u001b[38;5;28mself\u001b[39m\u001b[38;5;241m.\u001b[39menv, action)\n\u001b[1;32m     50\u001b[0m \u001b[38;5;28;01melse\u001b[39;00m:\n\u001b[0;32m---> 51\u001b[0m     \u001b[38;5;28;01mreturn\u001b[39;00m \u001b[38;5;28mself\u001b[39m\u001b[38;5;241m.\u001b[39menv\u001b[38;5;241m.\u001b[39mstep(action)\n",
      "File \u001b[0;32m~/anaconda3/lib/python3.11/site-packages/gymnasium_robotics/envs/robot_env.py:150\u001b[0m, in \u001b[0;36mBaseRobotEnv.step\u001b[0;34m(self, action)\u001b[0m\n\u001b[1;32m    147\u001b[0m terminated \u001b[38;5;241m=\u001b[39m \u001b[38;5;28mself\u001b[39m\u001b[38;5;241m.\u001b[39mcompute_terminated(obs[\u001b[38;5;124m\"\u001b[39m\u001b[38;5;124machieved_goal\u001b[39m\u001b[38;5;124m\"\u001b[39m], \u001b[38;5;28mself\u001b[39m\u001b[38;5;241m.\u001b[39mgoal, info)\n\u001b[1;32m    148\u001b[0m truncated \u001b[38;5;241m=\u001b[39m \u001b[38;5;28mself\u001b[39m\u001b[38;5;241m.\u001b[39mcompute_truncated(obs[\u001b[38;5;124m\"\u001b[39m\u001b[38;5;124machieved_goal\u001b[39m\u001b[38;5;124m\"\u001b[39m], \u001b[38;5;28mself\u001b[39m\u001b[38;5;241m.\u001b[39mgoal, info)\n\u001b[0;32m--> 150\u001b[0m reward \u001b[38;5;241m=\u001b[39m \u001b[38;5;28mself\u001b[39m\u001b[38;5;241m.\u001b[39mcompute_reward(obs[\u001b[38;5;124m\"\u001b[39m\u001b[38;5;124machieved_goal\u001b[39m\u001b[38;5;124m\"\u001b[39m], \u001b[38;5;28mself\u001b[39m\u001b[38;5;241m.\u001b[39mgoal, info)\n\u001b[1;32m    152\u001b[0m \u001b[38;5;28;01mreturn\u001b[39;00m obs, reward, terminated, truncated, info\n",
      "File \u001b[0;32m~/anaconda3/lib/python3.11/site-packages/gymnasium_robotics/envs/fetch/fetch_env.py:76\u001b[0m, in \u001b[0;36mget_base_fetch_env.<locals>.BaseFetchEnv.compute_reward\u001b[0;34m(self, achieved_goal, goal, info)\u001b[0m\n\u001b[1;32m     74\u001b[0m \u001b[38;5;28;01mdef\u001b[39;00m \u001b[38;5;21mcompute_reward\u001b[39m(\u001b[38;5;28mself\u001b[39m, achieved_goal, goal, info):\n\u001b[1;32m     75\u001b[0m     \u001b[38;5;66;03m# Compute distance between goal and the achieved goal.\u001b[39;00m\n\u001b[0;32m---> 76\u001b[0m     d \u001b[38;5;241m=\u001b[39m goal_distance(achieved_goal, goal)\n\u001b[1;32m     77\u001b[0m     \u001b[38;5;28;01mif\u001b[39;00m \u001b[38;5;28mself\u001b[39m\u001b[38;5;241m.\u001b[39mreward_type \u001b[38;5;241m==\u001b[39m \u001b[38;5;124m\"\u001b[39m\u001b[38;5;124msparse\u001b[39m\u001b[38;5;124m\"\u001b[39m:\n\u001b[1;32m     78\u001b[0m         \u001b[38;5;28;01mreturn\u001b[39;00m \u001b[38;5;241m-\u001b[39m(d \u001b[38;5;241m>\u001b[39m \u001b[38;5;28mself\u001b[39m\u001b[38;5;241m.\u001b[39mdistance_threshold)\u001b[38;5;241m.\u001b[39mastype(np\u001b[38;5;241m.\u001b[39mfloat32)\n",
      "File \u001b[0;32m~/anaconda3/lib/python3.11/site-packages/gymnasium_robotics/envs/fetch/fetch_env.py:18\u001b[0m, in \u001b[0;36mgoal_distance\u001b[0;34m(goal_a, goal_b)\u001b[0m\n\u001b[1;32m     16\u001b[0m \u001b[38;5;28;01mdef\u001b[39;00m \u001b[38;5;21mgoal_distance\u001b[39m(goal_a, goal_b):\n\u001b[1;32m     17\u001b[0m     \u001b[38;5;28;01massert\u001b[39;00m goal_a\u001b[38;5;241m.\u001b[39mshape \u001b[38;5;241m==\u001b[39m goal_b\u001b[38;5;241m.\u001b[39mshape\n\u001b[0;32m---> 18\u001b[0m     \u001b[38;5;28;01mreturn\u001b[39;00m np\u001b[38;5;241m.\u001b[39mlinalg\u001b[38;5;241m.\u001b[39mnorm(goal_a \u001b[38;5;241m-\u001b[39m goal_b, axis\u001b[38;5;241m=\u001b[39m\u001b[38;5;241m-\u001b[39m\u001b[38;5;241m1\u001b[39m)\n",
      "File \u001b[0;32m<__array_function__ internals>:200\u001b[0m, in \u001b[0;36mnorm\u001b[0;34m(*args, **kwargs)\u001b[0m\n",
      "File \u001b[0;32m~/anaconda3/lib/python3.11/site-packages/numpy/linalg/linalg.py:2542\u001b[0m, in \u001b[0;36mnorm\u001b[0;34m(x, ord, axis, keepdims)\u001b[0m\n\u001b[1;32m   2539\u001b[0m \u001b[38;5;28;01melif\u001b[39;00m \u001b[38;5;28mord\u001b[39m \u001b[38;5;129;01mis\u001b[39;00m \u001b[38;5;28;01mNone\u001b[39;00m \u001b[38;5;129;01mor\u001b[39;00m \u001b[38;5;28mord\u001b[39m \u001b[38;5;241m==\u001b[39m \u001b[38;5;241m2\u001b[39m:\n\u001b[1;32m   2540\u001b[0m     \u001b[38;5;66;03m# special case for speedup\u001b[39;00m\n\u001b[1;32m   2541\u001b[0m     s \u001b[38;5;241m=\u001b[39m (x\u001b[38;5;241m.\u001b[39mconj() \u001b[38;5;241m*\u001b[39m x)\u001b[38;5;241m.\u001b[39mreal\n\u001b[0;32m-> 2542\u001b[0m     \u001b[38;5;28;01mreturn\u001b[39;00m sqrt(add\u001b[38;5;241m.\u001b[39mreduce(s, axis\u001b[38;5;241m=\u001b[39maxis, keepdims\u001b[38;5;241m=\u001b[39mkeepdims))\n\u001b[1;32m   2543\u001b[0m \u001b[38;5;66;03m# None of the str-type keywords for ord ('fro', 'nuc')\u001b[39;00m\n\u001b[1;32m   2544\u001b[0m \u001b[38;5;66;03m# are valid for vectors\u001b[39;00m\n\u001b[1;32m   2545\u001b[0m \u001b[38;5;28;01melif\u001b[39;00m \u001b[38;5;28misinstance\u001b[39m(\u001b[38;5;28mord\u001b[39m, \u001b[38;5;28mstr\u001b[39m):\n",
      "\u001b[0;31mKeyboardInterrupt\u001b[0m: "
     ]
    }
   ],
   "source": [
    "epsilon = .3\n",
    "for epoch in range(epochs):\n",
    "    # score_history = []\n",
    "    score_history2 = []\n",
    "    score_history3 = []\n",
    "\n",
    "\n",
    "    for iter in tqdm(range(epoch_iters)):\n",
    "        # for _ in range(8):\n",
    "        score, success = player.play_and_record(epsilon=epsilon, num_episodes=16)\n",
    "        batch_size = 1024\n",
    "        player.update_agent(batch_size=batch_size)\n",
    "        # player.update_network_parameters()\n",
    "        # score_history.append(float(success))\n",
    "\n",
    "        # score, success = player2.play_and_record(epsilon=epsilon)\n",
    "        # player2.update_agent()\n",
    "        # score_history2.append(float(success))\n",
    "\n",
    "        # score, success = her2.play_and_learn(num_episodes=16)\n",
    "        # score_history2.append(float(success))\n",
    "\n",
    "        # score, success = her3.play_and_learn(num_episodes=16, her=False)\n",
    "        # score_history3.append(float(success))\n",
    "    # if epsilon > 0:\n",
    "    #     epsilon -= 0.005\n",
    "\n",
    "    # score, success_rate = player.play_and_record(epsilon=epsilon, train=False)\n",
    "    score, success_rate = player.play_test(n_tests=100)\n",
    "    # success_rate = np.mean(score_history)\n",
    "    success_history.append(success_rate)\n",
    "    plot_learning_curve(success_history, name=\"DDPG + HER\", title=\"FetchPush success rate\") \n",
    "    print(score, success_rate)\n",
    "    # success_rate2 = np.mean(score_history2)\n",
    "    # success_history2.append(success_rate2)\n",
    "    # plot_learning_curve(len(success_history2), success_history2, name=\"Soft-Actor Critic + HER\") \n",
    "\n",
    "    # success_rate3 = np.mean(score_history3)\n",
    "    # success_history3.append(success_rate3)\n",
    "    # plot_learning_curve(len(success_history3), success_history3, name=\"Soft-Actor Critic without HER\", running=True) \n",
    "\n",
    "    print(f\"Epoch {len(success_history)}\")\n",
    "    print(f\"DDPG with HER       success rate = {success_rate}\")\n",
    "    # print(f\"Soft-Actor Critic with HER      success rate = {success_rate2}\")\n",
    "    # print(f\"Soft-Actor Critic without HER       success rate = {success_rate3}\")\n",
    "    plt.show()"
   ]
  }
 ],
 "metadata": {
  "kernelspec": {
   "display_name": "base",
   "language": "python",
   "name": "python3"
  },
  "language_info": {
   "codemirror_mode": {
    "name": "ipython",
    "version": 3
   },
   "file_extension": ".py",
   "mimetype": "text/x-python",
   "name": "python",
   "nbconvert_exporter": "python",
   "pygments_lexer": "ipython3",
   "version": "3.11.5"
  }
 },
 "nbformat": 4,
 "nbformat_minor": 2
}
