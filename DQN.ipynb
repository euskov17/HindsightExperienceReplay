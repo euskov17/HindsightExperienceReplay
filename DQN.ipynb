{
 "cells": [
  {
   "cell_type": "code",
   "execution_count": 1,
   "metadata": {},
   "outputs": [],
   "source": [
    "import torch\n",
    "import numpy as np\n",
    "import torch.nn as nn\n",
    "import torch.nn.functional as F"
   ]
  },
  {
   "cell_type": "code",
   "execution_count": 2,
   "metadata": {},
   "outputs": [],
   "source": [
    "from dqn import DQN, DQNAgent\n",
    "from replay_buffer import ReplayBuffer\n",
    "from her import HindsightExperienceReplay\n",
    "from bit_flip_env import BitFlipEnv"
   ]
  },
  {
   "cell_type": "code",
   "execution_count": 3,
   "metadata": {},
   "outputs": [
    {
     "data": {
      "text/plain": [
       "(50, 50)"
      ]
     },
     "execution_count": 3,
     "metadata": {},
     "output_type": "execute_result"
    }
   ],
   "source": [
    "n_bits = 50\n",
    "env = BitFlipEnv(num_bits=n_bits)\n",
    "state_dim = env.state_dim\n",
    "n_actions = env.n_actions\n",
    "state_dim, n_actions"
   ]
  },
  {
   "cell_type": "code",
   "execution_count": 4,
   "metadata": {},
   "outputs": [],
   "source": [
    "agent = DQN(state_dim * 2, n_actions, hidden_size=256)\n",
    "buffer = ReplayBuffer(size=1_000_000)\n",
    "her = HindsightExperienceReplay(env, agent, buffer, \n",
    "                                batch_size=128,\n",
    "                                max_steps=n_bits, learning_freq=40)"
   ]
  },
  {
   "cell_type": "code",
   "execution_count": 5,
   "metadata": {},
   "outputs": [],
   "source": [
    "import copy\n",
    "agent2 = DQN(state_dim * 2, n_actions, hidden_size=256)\n",
    "\n",
    "env2 = BitFlipEnv(num_bits=n_bits)\n",
    "agent2 = copy.deepcopy(agent)\n",
    "buffer2 = ReplayBuffer(size=100_000)\n",
    "her2 = HindsightExperienceReplay(env2, agent2, buffer2, \n",
    "                                 batch_size=128,\n",
    "                                max_steps=n_bits, learning_freq=40)"
   ]
  },
  {
   "cell_type": "code",
   "execution_count": 6,
   "metadata": {},
   "outputs": [
    {
     "data": {
      "text/plain": [
       "(-50.0, 0.0)"
      ]
     },
     "execution_count": 6,
     "metadata": {},
     "output_type": "execute_result"
    }
   ],
   "source": [
    "her.play_and_learn()"
   ]
  },
  {
   "cell_type": "code",
   "execution_count": 7,
   "metadata": {},
   "outputs": [
    {
     "data": {
      "text/plain": [
       "(tensor([0.9368, 0.4423, 0.7200]), tensor([0.5516, 0.7547, 0.2508]), False)"
      ]
     },
     "execution_count": 7,
     "metadata": {},
     "output_type": "execute_result"
    }
   ],
   "source": [
    "a = torch.rand((3))\n",
    "b = torch.rand((3))\n",
    "a, b, torch.equal(a, b)"
   ]
  },
  {
   "cell_type": "code",
   "execution_count": 8,
   "metadata": {},
   "outputs": [
    {
     "data": {
      "text/plain": [
       "(array([0.05631324, 0.76560385, 0.48205762]),\n",
       " array([0.04735741, 0.46941519, 0.80150413]),\n",
       " array([False, False, False]))"
      ]
     },
     "execution_count": 8,
     "metadata": {},
     "output_type": "execute_result"
    }
   ],
   "source": [
    "a = np.random.rand((3))\n",
    "b = np.random.rand((3))\n",
    "a, b, np.equal(a, b)"
   ]
  },
  {
   "cell_type": "code",
   "execution_count": 9,
   "metadata": {},
   "outputs": [],
   "source": [
    "epochs = 100\n",
    "epoch_iters = 50\n",
    "success_history = []\n",
    "success_history2 = []"
   ]
  },
  {
   "cell_type": "code",
   "execution_count": 10,
   "metadata": {},
   "outputs": [
    {
     "data": {
      "text/plain": [
       "tensor([1., 1., 1., 1.])"
      ]
     },
     "execution_count": 10,
     "metadata": {},
     "output_type": "execute_result"
    }
   ],
   "source": [
    "a = torch.ones((4,5))\n",
    "torch.max(a, -1).values"
   ]
  },
  {
   "cell_type": "code",
   "execution_count": 11,
   "metadata": {},
   "outputs": [
    {
     "name": "stdout",
     "output_type": "stream",
     "text": [
      "Epoch 11 epsilon = 0.08999999999999997 success rate = 0.0\n",
      "Epoch 11 epsilon = 0.08999999999999997 success rate = 0.0\n"
     ]
    },
    {
     "data": {
      "image/png": "[encoded data removed]",
      "text/plain": [
       "<Figure size 640x480 with 1 Axes>"
      ]
     },
     "metadata": {},
     "output_type": "display_data"
    },
    {
     "name": "stderr",
     "output_type": "stream",
     "text": [
      " 96%|█████████▌| 48/50 [00:28<00:01,  1.55it/s]"
     ]
    }
   ],
   "source": [
    "from tqdm import tqdm\n",
    "import numpy as np\n",
    "from utils import plot_learning_curve\n",
    "import matplotlib.pyplot as plt\n",
    "\n",
    "for epoch in range(epochs):\n",
    "    score_history = []\n",
    "    score_history2 = []\n",
    "    for iter in tqdm(range(epoch_iters)):\n",
    "        score, success = her.play_and_learn(num_episodes=16)\n",
    "        score_history.append(float(success))\n",
    "\n",
    "        score, success = her2.play_and_learn(num_episodes=16, her=False)\n",
    "        score_history2.append(float(success))\n",
    "\n",
    "    if agent.epsilon > 0:\n",
    "        agent.epsilon -= 0.01\n",
    "        agent2.epsilon -= 0.01\n",
    "\n",
    "    success_rate = np.mean(score_history)\n",
    "    success_history.append(success_rate)\n",
    "    plot_learning_curve(epoch + 1, success_history, name=\"DQN + HER\") \n",
    "\n",
    "    success_rate2 = np.mean(score_history2)\n",
    "    success_history2.append(success_rate2)\n",
    "    plot_learning_curve(epoch + 1, success_history2, name=\"DQN\") \n",
    "\n",
    "    print(f\"Epoch {epoch + 1} epsilon = {agent.epsilon} success rate = {success_rate}\")\n",
    "    print(f\"Epoch {epoch + 1} epsilon = {agent2.epsilon} success rate = {success_rate2}\")\n",
    "    plt.show()"
   ]
  }
 ],
 "metadata": {
  "kernelspec": {
   "display_name": "base",
   "language": "python",
   "name": "python3"
  },
  "language_info": {
   "codemirror_mode": {
    "name": "ipython",
    "version": 3
   },
   "file_extension": ".py",
   "mimetype": "text/x-python",
   "name": "python",
   "nbconvert_exporter": "python",
   "pygments_lexer": "ipython3",
   "version": "3.11.5"
  }
 },
 "nbformat": 4,
 "nbformat_minor": 2
}
