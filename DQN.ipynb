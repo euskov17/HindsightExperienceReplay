{
 "cells": [
  {
   "cell_type": "code",
   "execution_count": 12,
   "metadata": {},
   "outputs": [],
   "source": [
    "import torch\n",
    "import numpy as np\n",
    "import torch.nn as nn\n",
    "import torch.nn.functional as F"
   ]
  },
  {
   "cell_type": "code",
   "execution_count": 13,
   "metadata": {},
   "outputs": [],
   "source": [
    "from dqn import DQN, DQNAgent\n",
    "from replay_buffer import ReplayBuffer\n",
    "from her import HindsightExperienceReplay\n",
    "from bit_flip_env import BitFlipEnv"
   ]
  },
  {
   "cell_type": "code",
   "execution_count": 14,
   "metadata": {},
   "outputs": [
    {
     "data": {
      "text/plain": [
       "(50, 50)"
      ]
     },
     "execution_count": 14,
     "metadata": {},
     "output_type": "execute_result"
    }
   ],
   "source": [
    "n_bits = 50\n",
    "env = BitFlipEnv(num_bits=n_bits)\n",
    "state_dim = env.state_dim\n",
    "n_actions = env.n_actions\n",
    "state_dim, n_actions"
   ]
  },
  {
   "cell_type": "code",
   "execution_count": 15,
   "metadata": {},
   "outputs": [],
   "source": [
    "agent = DQN(state_dim * 2, n_actions, hidden_size=256)\n",
    "buffer = ReplayBuffer(size=1_000_000)\n",
    "her = HindsightExperienceReplay(env, agent, buffer, \n",
    "                                batch_size=128,\n",
    "                                max_steps=n_bits, learning_freq=40)"
   ]
  },
  {
   "cell_type": "code",
   "execution_count": 16,
   "metadata": {},
   "outputs": [],
   "source": [
    "import copy\n",
    "agent2 = DQN(state_dim * 2, n_actions, hidden_size=256)\n",
    "\n",
    "env2 = BitFlipEnv(num_bits=n_bits)\n",
    "agent2 = copy.deepcopy(agent)\n",
    "buffer2 = ReplayBuffer(size=100_000)\n",
    "her2 = HindsightExperienceReplay(env2, agent2, buffer2, \n",
    "                                 batch_size=128,\n",
    "                                max_steps=n_bits, learning_freq=40)"
   ]
  },
  {
   "cell_type": "code",
   "execution_count": 17,
   "metadata": {},
   "outputs": [
    {
     "data": {
      "text/plain": [
       "(-50.0, 0.0)"
      ]
     },
     "execution_count": 17,
     "metadata": {},
     "output_type": "execute_result"
    }
   ],
   "source": [
    "her.play_and_learn()"
   ]
  },
  {
   "cell_type": "code",
   "execution_count": 18,
   "metadata": {},
   "outputs": [
    {
     "data": {
      "text/plain": [
       "(tensor([0.5886, 0.0959, 0.6671]), tensor([0.4249, 0.4796, 0.7724]), False)"
      ]
     },
     "execution_count": 18,
     "metadata": {},
     "output_type": "execute_result"
    }
   ],
   "source": [
    "a = torch.rand((3))\n",
    "b = torch.rand((3))\n",
    "a, b, torch.equal(a, b)"
   ]
  },
  {
   "cell_type": "code",
   "execution_count": 19,
   "metadata": {},
   "outputs": [
    {
     "data": {
      "text/plain": [
       "(array([0.07285137, 0.45855042, 0.82450667]),\n",
       " array([0.73926301, 0.48585298, 0.12406138]),\n",
       " array([False, False, False]))"
      ]
     },
     "execution_count": 19,
     "metadata": {},
     "output_type": "execute_result"
    }
   ],
   "source": [
    "a = np.random.rand((3))\n",
    "b = np.random.rand((3))\n",
    "a, b, np.equal(a, b)"
   ]
  },
  {
   "cell_type": "code",
   "execution_count": 20,
   "metadata": {},
   "outputs": [],
   "source": [
    "epochs = 100\n",
    "epoch_iters = 50\n",
    "success_history = []\n",
    "success_history2 = []"
   ]
  },
  {
   "cell_type": "code",
   "execution_count": 21,
   "metadata": {},
   "outputs": [
    {
     "data": {
      "text/plain": [
       "tensor([1., 1., 1., 1.])"
      ]
     },
     "execution_count": 21,
     "metadata": {},
     "output_type": "execute_result"
    }
   ],
   "source": [
    "a = torch.ones((4,5))\n",
    "torch.max(a, -1).values"
   ]
  },
  {
   "cell_type": "code",
   "execution_count": 22,
   "metadata": {},
   "outputs": [
    {
     "name": "stderr",
     "output_type": "stream",
     "text": [
      " 32%|███▏      | 16/50 [00:11<00:24,  1.37it/s]"
     ]
    }
   ],
   "source": [
    "from tqdm import tqdm\n",
    "import numpy as np\n",
    "from utils import plot_learning_curve\n",
    "import matplotlib.pyplot as plt\n",
    "\n",
    "for epoch in range(epochs):\n",
    "    score_history = []\n",
    "    score_history2 = []\n",
    "    for iter in tqdm(range(epoch_iters)):\n",
    "        score, success = her.play_and_learn(num_episodes=16)\n",
    "        score_history.append(float(success))\n",
    "\n",
    "        score, success = her2.play_and_learn(num_episodes=16, her=False)\n",
    "        score_history2.append(float(success))\n",
    "\n",
    "    if agent.epsilon > 0:\n",
    "        agent.epsilon -= 0.01\n",
    "        agent2.epsilon -= 0.01\n",
    "\n",
    "    success_rate = np.mean(score_history)\n",
    "    success_history.append(success_rate)\n",
    "    plot_learning_curve(epoch + 1, success_history, name=\"DQN + HER\") \n",
    "\n",
    "    success_rate2 = np.mean(score_history2)\n",
    "    success_history2.append(success_rate2)\n",
    "    plot_learning_curve(epoch + 1, success_history2, name=\"DQN\") \n",
    "\n",
    "    print(f\"Epoch {epoch + 1} epsilon = {agent.epsilon} success rate = {success_rate}\")\n",
    "    print(f\"Epoch {epoch + 1} epsilon = {agent2.epsilon} success rate = {success_rate2}\")\n",
    "    plt.show()"
   ]
  }
 ],
 "metadata": {
  "kernelspec": {
   "display_name": "base",
   "language": "python",
   "name": "python3"
  },
  "language_info": {
   "codemirror_mode": {
    "name": "ipython",
    "version": 3
   },
   "file_extension": ".py",
   "mimetype": "text/x-python",
   "name": "python",
   "nbconvert_exporter": "python",
   "pygments_lexer": "ipython3",
   "version": "3.11.5"
  }
 },
 "nbformat": 4,
 "nbformat_minor": 2
}
